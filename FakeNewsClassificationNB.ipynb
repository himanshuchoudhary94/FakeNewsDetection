{
  "nbformat": 4,
  "nbformat_minor": 0,
  "metadata": {
    "colab": {
      "name": "FakeNewsClassificationNB.ipynb",
      "provenance": [],
      "authorship_tag": "ABX9TyMkrfW7xNUj2ALKzkUwMZD/",
      "include_colab_link": true
    },
    "kernelspec": {
      "name": "python3",
      "display_name": "Python 3"
    },
    "accelerator": "GPU"
  },
  "cells": [
    {
      "cell_type": "markdown",
      "metadata": {
        "id": "view-in-github",
        "colab_type": "text"
      },
      "source": [
        "<a href=\"https://colab.research.google.com/github/himanshuchoudhary94/FakeNewsDetection/blob/main/FakeNewsClassificationNB.ipynb\" target=\"_parent\"><img src=\"https://colab.research.google.com/assets/colab-badge.svg\" alt=\"Open In Colab\"/></a>"
      ]
    },
    {
      "cell_type": "code",
      "metadata": {
        "id": "ntW4C5ODzfPw",
        "outputId": "94d1adbe-a561-4241-9a73-2a59ed503c5b",
        "colab": {
          "resources": {
            "http://localhost:8080/nbextensions/google.colab/files.js": {
              "data": "Ly8gQ29weXJpZ2h0IDIwMTcgR29vZ2xlIExMQwovLwovLyBMaWNlbnNlZCB1bmRlciB0aGUgQXBhY2hlIExpY2Vuc2UsIFZlcnNpb24gMi4wICh0aGUgIkxpY2Vuc2UiKTsKLy8geW91IG1heSBub3QgdXNlIHRoaXMgZmlsZSBleGNlcHQgaW4gY29tcGxpYW5jZSB3aXRoIHRoZSBMaWNlbnNlLgovLyBZb3UgbWF5IG9idGFpbiBhIGNvcHkgb2YgdGhlIExpY2Vuc2UgYXQKLy8KLy8gICAgICBodHRwOi8vd3d3LmFwYWNoZS5vcmcvbGljZW5zZXMvTElDRU5TRS0yLjAKLy8KLy8gVW5sZXNzIHJlcXVpcmVkIGJ5IGFwcGxpY2FibGUgbGF3IG9yIGFncmVlZCB0byBpbiB3cml0aW5nLCBzb2Z0d2FyZQovLyBkaXN0cmlidXRlZCB1bmRlciB0aGUgTGljZW5zZSBpcyBkaXN0cmlidXRlZCBvbiBhbiAiQVMgSVMiIEJBU0lTLAovLyBXSVRIT1VUIFdBUlJBTlRJRVMgT1IgQ09ORElUSU9OUyBPRiBBTlkgS0lORCwgZWl0aGVyIGV4cHJlc3Mgb3IgaW1wbGllZC4KLy8gU2VlIHRoZSBMaWNlbnNlIGZvciB0aGUgc3BlY2lmaWMgbGFuZ3VhZ2UgZ292ZXJuaW5nIHBlcm1pc3Npb25zIGFuZAovLyBsaW1pdGF0aW9ucyB1bmRlciB0aGUgTGljZW5zZS4KCi8qKgogKiBAZmlsZW92ZXJ2aWV3IEhlbHBlcnMgZm9yIGdvb2dsZS5jb2xhYiBQeXRob24gbW9kdWxlLgogKi8KKGZ1bmN0aW9uKHNjb3BlKSB7CmZ1bmN0aW9uIHNwYW4odGV4dCwgc3R5bGVBdHRyaWJ1dGVzID0ge30pIHsKICBjb25zdCBlbGVtZW50ID0gZG9jdW1lbnQuY3JlYXRlRWxlbWVudCgnc3BhbicpOwogIGVsZW1lbnQudGV4dENvbnRlbnQgPSB0ZXh0OwogIGZvciAoY29uc3Qga2V5IG9mIE9iamVjdC5rZXlzKHN0eWxlQXR0cmlidXRlcykpIHsKICAgIGVsZW1lbnQuc3R5bGVba2V5XSA9IHN0eWxlQXR0cmlidXRlc1trZXldOwogIH0KICByZXR1cm4gZWxlbWVudDsKfQoKLy8gTWF4IG51bWJlciBvZiBieXRlcyB3aGljaCB3aWxsIGJlIHVwbG9hZGVkIGF0IGEgdGltZS4KY29uc3QgTUFYX1BBWUxPQURfU0laRSA9IDEwMCAqIDEwMjQ7CgpmdW5jdGlvbiBfdXBsb2FkRmlsZXMoaW5wdXRJZCwgb3V0cHV0SWQpIHsKICBjb25zdCBzdGVwcyA9IHVwbG9hZEZpbGVzU3RlcChpbnB1dElkLCBvdXRwdXRJZCk7CiAgY29uc3Qgb3V0cHV0RWxlbWVudCA9IGRvY3VtZW50LmdldEVsZW1lbnRCeUlkKG91dHB1dElkKTsKICAvLyBDYWNoZSBzdGVwcyBvbiB0aGUgb3V0cHV0RWxlbWVudCB0byBtYWtlIGl0IGF2YWlsYWJsZSBmb3IgdGhlIG5leHQgY2FsbAogIC8vIHRvIHVwbG9hZEZpbGVzQ29udGludWUgZnJvbSBQeXRob24uCiAgb3V0cHV0RWxlbWVudC5zdGVwcyA9IHN0ZXBzOwoKICByZXR1cm4gX3VwbG9hZEZpbGVzQ29udGludWUob3V0cHV0SWQpOwp9CgovLyBUaGlzIGlzIHJvdWdobHkgYW4gYXN5bmMgZ2VuZXJhdG9yIChub3Qgc3VwcG9ydGVkIGluIHRoZSBicm93c2VyIHlldCksCi8vIHdoZXJlIHRoZXJlIGFyZSBtdWx0aXBsZSBhc3luY2hyb25vdXMgc3RlcHMgYW5kIHRoZSBQeXRob24gc2lkZSBpcyBnb2luZwovLyB0byBwb2xsIGZvciBjb21wbGV0aW9uIG9mIGVhY2ggc3RlcC4KLy8gVGhpcyB1c2VzIGEgUHJvbWlzZSB0byBibG9jayB0aGUgcHl0aG9uIHNpZGUgb24gY29tcGxldGlvbiBvZiBlYWNoIHN0ZXAsCi8vIHRoZW4gcGFzc2VzIHRoZSByZXN1bHQgb2YgdGhlIHByZXZpb3VzIHN0ZXAgYXMgdGhlIGlucHV0IHRvIHRoZSBuZXh0IHN0ZXAuCmZ1bmN0aW9uIF91cGxvYWRGaWxlc0NvbnRpbnVlKG91dHB1dElkKSB7CiAgY29uc3Qgb3V0cHV0RWxlbWVudCA9IGRvY3VtZW50LmdldEVsZW1lbnRCeUlkKG91dHB1dElkKTsKICBjb25zdCBzdGVwcyA9IG91dHB1dEVsZW1lbnQuc3RlcHM7CgogIGNvbnN0IG5leHQgPSBzdGVwcy5uZXh0KG91dHB1dEVsZW1lbnQubGFzdFByb21pc2VWYWx1ZSk7CiAgcmV0dXJuIFByb21pc2UucmVzb2x2ZShuZXh0LnZhbHVlLnByb21pc2UpLnRoZW4oKHZhbHVlKSA9PiB7CiAgICAvLyBDYWNoZSB0aGUgbGFzdCBwcm9taXNlIHZhbHVlIHRvIG1ha2UgaXQgYXZhaWxhYmxlIHRvIHRoZSBuZXh0CiAgICAvLyBzdGVwIG9mIHRoZSBnZW5lcmF0b3IuCiAgICBvdXRwdXRFbGVtZW50Lmxhc3RQcm9taXNlVmFsdWUgPSB2YWx1ZTsKICAgIHJldHVybiBuZXh0LnZhbHVlLnJlc3BvbnNlOwogIH0pOwp9CgovKioKICogR2VuZXJhdG9yIGZ1bmN0aW9uIHdoaWNoIGlzIGNhbGxlZCBiZXR3ZWVuIGVhY2ggYXN5bmMgc3RlcCBvZiB0aGUgdXBsb2FkCiAqIHByb2Nlc3MuCiAqIEBwYXJhbSB7c3RyaW5nfSBpbnB1dElkIEVsZW1lbnQgSUQgb2YgdGhlIGlucHV0IGZpbGUgcGlja2VyIGVsZW1lbnQuCiAqIEBwYXJhbSB7c3RyaW5nfSBvdXRwdXRJZCBFbGVtZW50IElEIG9mIHRoZSBvdXRwdXQgZGlzcGxheS4KICogQHJldHVybiB7IUl0ZXJhYmxlPCFPYmplY3Q+fSBJdGVyYWJsZSBvZiBuZXh0IHN0ZXBzLgogKi8KZnVuY3Rpb24qIHVwbG9hZEZpbGVzU3RlcChpbnB1dElkLCBvdXRwdXRJZCkgewogIGNvbnN0IGlucHV0RWxlbWVudCA9IGRvY3VtZW50LmdldEVsZW1lbnRCeUlkKGlucHV0SWQpOwogIGlucHV0RWxlbWVudC5kaXNhYmxlZCA9IGZhbHNlOwoKICBjb25zdCBvdXRwdXRFbGVtZW50ID0gZG9jdW1lbnQuZ2V0RWxlbWVudEJ5SWQob3V0cHV0SWQpOwogIG91dHB1dEVsZW1lbnQuaW5uZXJIVE1MID0gJyc7CgogIGNvbnN0IHBpY2tlZFByb21pc2UgPSBuZXcgUHJvbWlzZSgocmVzb2x2ZSkgPT4gewogICAgaW5wdXRFbGVtZW50LmFkZEV2ZW50TGlzdGVuZXIoJ2NoYW5nZScsIChlKSA9PiB7CiAgICAgIHJlc29sdmUoZS50YXJnZXQuZmlsZXMpOwogICAgfSk7CiAgfSk7CgogIGNvbnN0IGNhbmNlbCA9IGRvY3VtZW50LmNyZWF0ZUVsZW1lbnQoJ2J1dHRvbicpOwogIGlucHV0RWxlbWVudC5wYXJlbnRFbGVtZW50LmFwcGVuZENoaWxkKGNhbmNlbCk7CiAgY2FuY2VsLnRleHRDb250ZW50ID0gJ0NhbmNlbCB1cGxvYWQnOwogIGNvbnN0IGNhbmNlbFByb21pc2UgPSBuZXcgUHJvbWlzZSgocmVzb2x2ZSkgPT4gewogICAgY2FuY2VsLm9uY2xpY2sgPSAoKSA9PiB7CiAgICAgIHJlc29sdmUobnVsbCk7CiAgICB9OwogIH0pOwoKICAvLyBXYWl0IGZvciB0aGUgdXNlciB0byBwaWNrIHRoZSBmaWxlcy4KICBjb25zdCBmaWxlcyA9IHlpZWxkIHsKICAgIHByb21pc2U6IFByb21pc2UucmFjZShbcGlja2VkUHJvbWlzZSwgY2FuY2VsUHJvbWlzZV0pLAogICAgcmVzcG9uc2U6IHsKICAgICAgYWN0aW9uOiAnc3RhcnRpbmcnLAogICAgfQogIH07CgogIGNhbmNlbC5yZW1vdmUoKTsKCiAgLy8gRGlzYWJsZSB0aGUgaW5wdXQgZWxlbWVudCBzaW5jZSBmdXJ0aGVyIHBpY2tzIGFyZSBub3QgYWxsb3dlZC4KICBpbnB1dEVsZW1lbnQuZGlzYWJsZWQgPSB0cnVlOwoKICBpZiAoIWZpbGVzKSB7CiAgICByZXR1cm4gewogICAgICByZXNwb25zZTogewogICAgICAgIGFjdGlvbjogJ2NvbXBsZXRlJywKICAgICAgfQogICAgfTsKICB9CgogIGZvciAoY29uc3QgZmlsZSBvZiBmaWxlcykgewogICAgY29uc3QgbGkgPSBkb2N1bWVudC5jcmVhdGVFbGVtZW50KCdsaScpOwogICAgbGkuYXBwZW5kKHNwYW4oZmlsZS5uYW1lLCB7Zm9udFdlaWdodDogJ2JvbGQnfSkpOwogICAgbGkuYXBwZW5kKHNwYW4oCiAgICAgICAgYCgke2ZpbGUudHlwZSB8fCAnbi9hJ30pIC0gJHtmaWxlLnNpemV9IGJ5dGVzLCBgICsKICAgICAgICBgbGFzdCBtb2RpZmllZDogJHsKICAgICAgICAgICAgZmlsZS5sYXN0TW9kaWZpZWREYXRlID8gZmlsZS5sYXN0TW9kaWZpZWREYXRlLnRvTG9jYWxlRGF0ZVN0cmluZygpIDoKICAgICAgICAgICAgICAgICAgICAgICAgICAgICAgICAgICAgJ24vYSd9IC0gYCkpOwogICAgY29uc3QgcGVyY2VudCA9IHNwYW4oJzAlIGRvbmUnKTsKICAgIGxpLmFwcGVuZENoaWxkKHBlcmNlbnQpOwoKICAgIG91dHB1dEVsZW1lbnQuYXBwZW5kQ2hpbGQobGkpOwoKICAgIGNvbnN0IGZpbGVEYXRhUHJvbWlzZSA9IG5ldyBQcm9taXNlKChyZXNvbHZlKSA9PiB7CiAgICAgIGNvbnN0IHJlYWRlciA9IG5ldyBGaWxlUmVhZGVyKCk7CiAgICAgIHJlYWRlci5vbmxvYWQgPSAoZSkgPT4gewogICAgICAgIHJlc29sdmUoZS50YXJnZXQucmVzdWx0KTsKICAgICAgfTsKICAgICAgcmVhZGVyLnJlYWRBc0FycmF5QnVmZmVyKGZpbGUpOwogICAgfSk7CiAgICAvLyBXYWl0IGZvciB0aGUgZGF0YSB0byBiZSByZWFkeS4KICAgIGxldCBmaWxlRGF0YSA9IHlpZWxkIHsKICAgICAgcHJvbWlzZTogZmlsZURhdGFQcm9taXNlLAogICAgICByZXNwb25zZTogewogICAgICAgIGFjdGlvbjogJ2NvbnRpbnVlJywKICAgICAgfQogICAgfTsKCiAgICAvLyBVc2UgYSBjaHVua2VkIHNlbmRpbmcgdG8gYXZvaWQgbWVzc2FnZSBzaXplIGxpbWl0cy4gU2VlIGIvNjIxMTU2NjAuCiAgICBsZXQgcG9zaXRpb24gPSAwOwogICAgd2hpbGUgKHBvc2l0aW9uIDwgZmlsZURhdGEuYnl0ZUxlbmd0aCkgewogICAgICBjb25zdCBsZW5ndGggPSBNYXRoLm1pbihmaWxlRGF0YS5ieXRlTGVuZ3RoIC0gcG9zaXRpb24sIE1BWF9QQVlMT0FEX1NJWkUpOwogICAgICBjb25zdCBjaHVuayA9IG5ldyBVaW50OEFycmF5KGZpbGVEYXRhLCBwb3NpdGlvbiwgbGVuZ3RoKTsKICAgICAgcG9zaXRpb24gKz0gbGVuZ3RoOwoKICAgICAgY29uc3QgYmFzZTY0ID0gYnRvYShTdHJpbmcuZnJvbUNoYXJDb2RlLmFwcGx5KG51bGwsIGNodW5rKSk7CiAgICAgIHlpZWxkIHsKICAgICAgICByZXNwb25zZTogewogICAgICAgICAgYWN0aW9uOiAnYXBwZW5kJywKICAgICAgICAgIGZpbGU6IGZpbGUubmFtZSwKICAgICAgICAgIGRhdGE6IGJhc2U2NCwKICAgICAgICB9LAogICAgICB9OwogICAgICBwZXJjZW50LnRleHRDb250ZW50ID0KICAgICAgICAgIGAke01hdGgucm91bmQoKHBvc2l0aW9uIC8gZmlsZURhdGEuYnl0ZUxlbmd0aCkgKiAxMDApfSUgZG9uZWA7CiAgICB9CiAgfQoKICAvLyBBbGwgZG9uZS4KICB5aWVsZCB7CiAgICByZXNwb25zZTogewogICAgICBhY3Rpb246ICdjb21wbGV0ZScsCiAgICB9CiAgfTsKfQoKc2NvcGUuZ29vZ2xlID0gc2NvcGUuZ29vZ2xlIHx8IHt9OwpzY29wZS5nb29nbGUuY29sYWIgPSBzY29wZS5nb29nbGUuY29sYWIgfHwge307CnNjb3BlLmdvb2dsZS5jb2xhYi5fZmlsZXMgPSB7CiAgX3VwbG9hZEZpbGVzLAogIF91cGxvYWRGaWxlc0NvbnRpbnVlLAp9Owp9KShzZWxmKTsK",
              "ok": true,
              "headers": [
                [
                  "content-type",
                  "application/javascript"
                ]
              ],
              "status": 200,
              "status_text": ""
            }
          },
          "base_uri": "https://localhost:8080/",
          "height": 197
        }
      },
      "source": [
        "#loading the token for kaggle-collab \n",
        "\n",
        "!pip install --upgrade --force-reinstall --no-deps kaggle\n",
        "from google.colab import files\n",
        "files.upload()"
      ],
      "execution_count": 43,
      "outputs": [
        {
          "output_type": "stream",
          "text": [
            "Processing /root/.cache/pip/wheels/68/6d/9b/7a98271454edcba3b56328cbc78c037286e787d004c8afee71/kaggle-1.5.9-cp36-none-any.whl\n",
            "Installing collected packages: kaggle\n",
            "  Found existing installation: kaggle 1.5.9\n",
            "    Uninstalling kaggle-1.5.9:\n",
            "      Successfully uninstalled kaggle-1.5.9\n",
            "Successfully installed kaggle-1.5.9\n"
          ],
          "name": "stdout"
        },
        {
          "output_type": "display_data",
          "data": {
            "text/html": [
              "\n",
              "     <input type=\"file\" id=\"files-fafdfff6-f044-4bd5-ae29-bb1641a056a6\" name=\"files[]\" multiple disabled\n",
              "        style=\"border:none\" />\n",
              "     <output id=\"result-fafdfff6-f044-4bd5-ae29-bb1641a056a6\">\n",
              "      Upload widget is only available when the cell has been executed in the\n",
              "      current browser session. Please rerun this cell to enable.\n",
              "      </output>\n",
              "      <script src=\"/nbextensions/google.colab/files.js\"></script> "
            ],
            "text/plain": [
              "<IPython.core.display.HTML object>"
            ]
          },
          "metadata": {
            "tags": []
          }
        },
        {
          "output_type": "stream",
          "text": [
            "Saving kaggle.json to kaggle (3).json\n"
          ],
          "name": "stdout"
        },
        {
          "output_type": "execute_result",
          "data": {
            "text/plain": [
              "{'kaggle.json': b'{\"username\":\"himanshuchoudhary94\",\"key\":\"c6d0da89704d5ed384ff4a64e2f851e2\"}'}"
            ]
          },
          "metadata": {
            "tags": []
          },
          "execution_count": 43
        }
      ]
    },
    {
      "cell_type": "code",
      "metadata": {
        "id": "uZdZNUOqzkrx",
        "outputId": "0d34a30f-6423-403d-99f8-8d3f09c45ab3",
        "colab": {
          "base_uri": "https://localhost:8080/"
        }
      },
      "source": [
        "#commands for data import\n",
        "\n",
        "!mkdir -p ~/.kaggle\n",
        "!cp kaggle.json ~/.kaggle/\n",
        "!chmod 600 ~/.kaggle/kaggle.json\n",
        "!kaggle competitions download -c fake-news\n",
        "!unzip \\fake-news.zip"
      ],
      "execution_count": 44,
      "outputs": [
        {
          "output_type": "stream",
          "text": [
            "fake-news.zip: Skipping, found more recently modified local copy (use --force to force download)\n",
            "Archive:  fake-news.zip\n",
            "replace submit.csv? [y]es, [n]o, [A]ll, [N]one, [r]ename: y\n",
            "  inflating: submit.csv              \n",
            "replace test.csv? [y]es, [n]o, [A]ll, [N]one, [r]ename: y\n",
            "  inflating: test.csv                \n",
            "replace train.csv? [y]es, [n]o, [A]ll, [N]one, [r]ename: y\n",
            "  inflating: train.csv               \n"
          ],
          "name": "stdout"
        }
      ]
    },
    {
      "cell_type": "code",
      "metadata": {
        "id": "VwhTGhYBz3ZX"
      },
      "source": [
        "#initializing required libraries\n",
        "\n",
        "import random\n",
        "import nltk\n",
        "import pandas as pd\n",
        "from nltk.tokenize import word_tokenize\n",
        "from nltk.corpus import stopwords\n",
        "from nltk.stem.porter import PorterStemmer\n",
        "from nltk.stem import WordNetLemmatizer"
      ],
      "execution_count": 45,
      "outputs": []
    },
    {
      "cell_type": "code",
      "metadata": {
        "id": "ZSfcQGzwz7e_"
      },
      "source": [
        "#reading csv file\n",
        "train = pd.read_csv('train.csv')"
      ],
      "execution_count": 46,
      "outputs": []
    },
    {
      "cell_type": "code",
      "metadata": {
        "id": "s4ImqRFxD791"
      },
      "source": [
        "#removing duplicates & filling NANs with string 'Not Available'\n",
        "\n",
        "train = train.drop_duplicates(subset=['title'], keep = 'first')"
      ],
      "execution_count": 47,
      "outputs": []
    },
    {
      "cell_type": "code",
      "metadata": {
        "id": "WXIylf4T1lOa",
        "outputId": "024fbed3-e624-4f61-883a-d1a611d14d05",
        "colab": {
          "base_uri": "https://localhost:8080/",
          "height": 399
        }
      },
      "source": [
        "#Using only title for classification\n",
        "\n",
        "title_data = train[['title','label']]\n",
        "title_data"
      ],
      "execution_count": 48,
      "outputs": [
        {
          "output_type": "execute_result",
          "data": {
            "text/html": [
              "<div>\n",
              "<style scoped>\n",
              "    .dataframe tbody tr th:only-of-type {\n",
              "        vertical-align: middle;\n",
              "    }\n",
              "\n",
              "    .dataframe tbody tr th {\n",
              "        vertical-align: top;\n",
              "    }\n",
              "\n",
              "    .dataframe thead th {\n",
              "        text-align: right;\n",
              "    }\n",
              "</style>\n",
              "<table border=\"1\" class=\"dataframe\">\n",
              "  <thead>\n",
              "    <tr style=\"text-align: right;\">\n",
              "      <th></th>\n",
              "      <th>title</th>\n",
              "      <th>label</th>\n",
              "    </tr>\n",
              "  </thead>\n",
              "  <tbody>\n",
              "    <tr>\n",
              "      <th>0</th>\n",
              "      <td>House Dem Aide: We Didn’t Even See Comey’s Let...</td>\n",
              "      <td>1</td>\n",
              "    </tr>\n",
              "    <tr>\n",
              "      <th>1</th>\n",
              "      <td>FLYNN: Hillary Clinton, Big Woman on Campus - ...</td>\n",
              "      <td>0</td>\n",
              "    </tr>\n",
              "    <tr>\n",
              "      <th>2</th>\n",
              "      <td>Why the Truth Might Get You Fired</td>\n",
              "      <td>1</td>\n",
              "    </tr>\n",
              "    <tr>\n",
              "      <th>3</th>\n",
              "      <td>15 Civilians Killed In Single US Airstrike Hav...</td>\n",
              "      <td>1</td>\n",
              "    </tr>\n",
              "    <tr>\n",
              "      <th>4</th>\n",
              "      <td>Iranian woman jailed for fictional unpublished...</td>\n",
              "      <td>1</td>\n",
              "    </tr>\n",
              "    <tr>\n",
              "      <th>...</th>\n",
              "      <td>...</td>\n",
              "      <td>...</td>\n",
              "    </tr>\n",
              "    <tr>\n",
              "      <th>20794</th>\n",
              "      <td>Trump: Putin ’Very Smart’ to Not Retaliate ove...</td>\n",
              "      <td>0</td>\n",
              "    </tr>\n",
              "    <tr>\n",
              "      <th>20795</th>\n",
              "      <td>Rapper T.I.: Trump a ’Poster Child For White S...</td>\n",
              "      <td>0</td>\n",
              "    </tr>\n",
              "    <tr>\n",
              "      <th>20796</th>\n",
              "      <td>N.F.L. Playoffs: Schedule, Matchups and Odds -...</td>\n",
              "      <td>0</td>\n",
              "    </tr>\n",
              "    <tr>\n",
              "      <th>20797</th>\n",
              "      <td>Macy’s Is Said to Receive Takeover Approach by...</td>\n",
              "      <td>0</td>\n",
              "    </tr>\n",
              "    <tr>\n",
              "      <th>20798</th>\n",
              "      <td>NATO, Russia To Hold Parallel Exercises In Bal...</td>\n",
              "      <td>1</td>\n",
              "    </tr>\n",
              "  </tbody>\n",
              "</table>\n",
              "<p>19804 rows × 2 columns</p>\n",
              "</div>"
            ],
            "text/plain": [
              "                                                   title  label\n",
              "0      House Dem Aide: We Didn’t Even See Comey’s Let...      1\n",
              "1      FLYNN: Hillary Clinton, Big Woman on Campus - ...      0\n",
              "2                      Why the Truth Might Get You Fired      1\n",
              "3      15 Civilians Killed In Single US Airstrike Hav...      1\n",
              "4      Iranian woman jailed for fictional unpublished...      1\n",
              "...                                                  ...    ...\n",
              "20794  Trump: Putin ’Very Smart’ to Not Retaliate ove...      0\n",
              "20795  Rapper T.I.: Trump a ’Poster Child For White S...      0\n",
              "20796  N.F.L. Playoffs: Schedule, Matchups and Odds -...      0\n",
              "20797  Macy’s Is Said to Receive Takeover Approach by...      0\n",
              "20798  NATO, Russia To Hold Parallel Exercises In Bal...      1\n",
              "\n",
              "[19804 rows x 2 columns]"
            ]
          },
          "metadata": {
            "tags": []
          },
          "execution_count": 48
        }
      ]
    },
    {
      "cell_type": "code",
      "metadata": {
        "id": "Fm3Wy5OJZjlK",
        "outputId": "be1fea48-84de-4074-aa88-325a6989bd05",
        "colab": {
          "base_uri": "https://localhost:8080/"
        }
      },
      "source": [
        "#title_data[title_data['title']==].value_counts()\n",
        "title_data.isna().sum()"
      ],
      "execution_count": 49,
      "outputs": [
        {
          "output_type": "execute_result",
          "data": {
            "text/plain": [
              "title    1\n",
              "label    0\n",
              "dtype: int64"
            ]
          },
          "metadata": {
            "tags": []
          },
          "execution_count": 49
        }
      ]
    },
    {
      "cell_type": "code",
      "metadata": {
        "id": "3OjC_0BqZ9EJ",
        "outputId": "1c7c5622-5b93-4e33-d180-c05e425460eb",
        "colab": {
          "base_uri": "https://localhost:8080/"
        }
      },
      "source": [
        "#droping the row of nan as only 1 such row\n",
        "title_data.dropna(inplace=True)"
      ],
      "execution_count": 50,
      "outputs": [
        {
          "output_type": "stream",
          "text": [
            "/usr/local/lib/python3.6/dist-packages/ipykernel_launcher.py:2: SettingWithCopyWarning: \n",
            "A value is trying to be set on a copy of a slice from a DataFrame\n",
            "\n",
            "See the caveats in the documentation: https://pandas.pydata.org/pandas-docs/stable/user_guide/indexing.html#returning-a-view-versus-a-copy\n",
            "  \n"
          ],
          "name": "stderr"
        }
      ]
    },
    {
      "cell_type": "code",
      "metadata": {
        "id": "eDh3siOb1ypF"
      },
      "source": [
        "## Converting the read dataset into a list of tuples, each tuple(row) contianing the news title and it's label\n",
        "data_set = []\n",
        "for index,row in title_data.iterrows():\n",
        "    data_set.append((row['title'], row['label']))"
      ],
      "execution_count": 51,
      "outputs": []
    },
    {
      "cell_type": "code",
      "metadata": {
        "id": "j67UMZvm4VsY",
        "outputId": "1de36b36-4150-4d08-91c5-dc71e1a6d9b0",
        "colab": {
          "base_uri": "https://localhost:8080/"
        }
      },
      "source": [
        "#Checking data_set Built\n",
        "\n",
        "print(data_set[:5])"
      ],
      "execution_count": 71,
      "outputs": [
        {
          "output_type": "stream",
          "text": [
            "[('House Dem Aide: We Didn’t Even See Comey’s Letter Until Jason Chaffetz Tweeted It', 1), ('FLYNN: Hillary Clinton, Big Woman on Campus - Breitbart', 0), ('Why the Truth Might Get You Fired', 1), ('15 Civilians Killed In Single US Airstrike Have Been Identified', 1), ('Iranian woman jailed for fictional unpublished story about woman stoned to death for adultery', 1)]\n"
          ],
          "name": "stdout"
        }
      ]
    },
    {
      "cell_type": "code",
      "metadata": {
        "id": "KRjKKA00-whj",
        "outputId": "f87ba1a0-00c4-4b6a-fe03-da947f96db51",
        "colab": {
          "base_uri": "https://localhost:8080/"
        }
      },
      "source": [
        "#additional downloads required\n",
        "\n",
        "nltk.download('punkt')\n",
        "nltk.download('stopwords')\n",
        "nltk.download('wordnet')"
      ],
      "execution_count": 53,
      "outputs": [
        {
          "output_type": "stream",
          "text": [
            "[nltk_data] Downloading package punkt to /root/nltk_data...\n",
            "[nltk_data]   Package punkt is already up-to-date!\n",
            "[nltk_data] Downloading package stopwords to /root/nltk_data...\n",
            "[nltk_data]   Package stopwords is already up-to-date!\n",
            "[nltk_data] Downloading package wordnet to /root/nltk_data...\n",
            "[nltk_data]   Package wordnet is already up-to-date!\n"
          ],
          "name": "stdout"
        },
        {
          "output_type": "execute_result",
          "data": {
            "text/plain": [
              "True"
            ]
          },
          "metadata": {
            "tags": []
          },
          "execution_count": 53
        }
      ]
    },
    {
      "cell_type": "code",
      "metadata": {
        "id": "o71Pqmk04jhb"
      },
      "source": [
        "#initialise the inbuilt Stemmer and the Lemmatizer\n",
        "stemmer = PorterStemmer()\n",
        "wordnet_lemmatizer = WordNetLemmatizer()"
      ],
      "execution_count": 54,
      "outputs": []
    },
    {
      "cell_type": "code",
      "metadata": {
        "id": "RVcEtMLl4nO5"
      },
      "source": [
        "def preprocess(document, stem=True):\n",
        "    'changes document to lower case, removes stopwords and lemmatizes/stems the remainder of the sentence'\n",
        "\n",
        "    # change sentence to lower case\n",
        "    document = document.lower()\n",
        "\n",
        "    # tokenize into words\n",
        "    words = word_tokenize(document)\n",
        "\n",
        "    # remove stop words\n",
        "    words = [word for word in words if word not in stopwords.words(\"english\")]\n",
        "\n",
        "    if stem:\n",
        "        words = [stemmer.stem(word) for word in words]\n",
        "    else:\n",
        "        words = [wordnet_lemmatizer.lemmatize(word, pos='v') for word in words]\n",
        "\n",
        "    # join words to make sentence\n",
        "    document = \" \".join(words)\n",
        "\n",
        "    return document"
      ],
      "execution_count": 55,
      "outputs": []
    },
    {
      "cell_type": "code",
      "metadata": {
        "id": "-DJvzTu4_tKL"
      },
      "source": [
        "#Performing the preprocessing steps on all news titles\n",
        "title_set = []\n",
        "for (title, label) in data_set:\n",
        "    words_filtered = [e.lower() for e in preprocess(title, stem=False).split() if len(e) >= 3]\n",
        "    title_set.append((words_filtered, label))"
      ],
      "execution_count": 56,
      "outputs": []
    },
    {
      "cell_type": "code",
      "metadata": {
        "id": "gR9D6OfGCklM",
        "outputId": "0ebc9fc8-1800-4d60-cf5d-6f3816600edf",
        "colab": {
          "base_uri": "https://localhost:8080/"
        }
      },
      "source": [
        "#creating a single list of all words in the entire dataset for feature list creation\n",
        "\n",
        "def get_words_in_title(titles):\n",
        "    all_words = []\n",
        "    for (title, label) in titles:\n",
        "      all_words.extend(title)\n",
        "    return all_words\n",
        "\n",
        "\n",
        "#creating a final feature list using an intuitive FreqDist, to eliminate all the duplicate words\n",
        "\n",
        "def get_word_features(wordlist):\n",
        "\n",
        "    #print(wordlist[:10])\n",
        "    wordlist = nltk.FreqDist(wordlist)\n",
        "    word_features = wordlist.keys()\n",
        "    return word_features\n",
        "\n",
        "#creating the word features for the entire dataset\n",
        "word_features = get_word_features(get_words_in_title(title_set))\n",
        "print(len(word_features))\n",
        "\n",
        "#creating slicing index at 80% threshold\n",
        "sliceIndex = int((len(title_set)*.8))\n",
        "\n",
        "#shuffle the pack to create a random and unbiased split of the dataset\n",
        "random.shuffle(title_set)\n",
        "\n",
        "train_titles, test_titles = title_set[:sliceIndex], title_set[sliceIndex:]\n",
        "\n",
        "#creating a LazyMap of feature presence for each of the features with respect to each of the title\n",
        "def extract_features(document):\n",
        "    document_words = set(document)\n",
        "    features = {}\n",
        "    for word in word_features:\n",
        "        features['contains(%s)' % word] = (word in document_words)\n",
        "    return features\n",
        "\n",
        "#creating the feature map of train and test data\n",
        "\n",
        "training_set = nltk.classify.apply_features(extract_features, train_titles)\n",
        "testing_set = nltk.classify.apply_features(extract_features, test_titles)\n",
        "\n"
      ],
      "execution_count": 60,
      "outputs": [
        {
          "output_type": "stream",
          "text": [
            "20589\n"
          ],
          "name": "stdout"
        }
      ]
    },
    {
      "cell_type": "code",
      "metadata": {
        "id": "Z6ZFjZM6J5MH",
        "outputId": "089836a1-7cc5-4c5d-c3e2-6e2a7fe6e095",
        "colab": {
          "base_uri": "https://localhost:8080/"
        }
      },
      "source": [
        "print('Training set size : ', len(training_set))\n",
        "print('Test set size : ', len(testing_set))"
      ],
      "execution_count": 61,
      "outputs": [
        {
          "output_type": "stream",
          "text": [
            "Training set size :  15842\n",
            "Test set size :  3961\n"
          ],
          "name": "stdout"
        }
      ]
    },
    {
      "cell_type": "code",
      "metadata": {
        "id": "t_9szPkwFeAk"
      },
      "source": [
        "#Training the classifier with NaiveBayes algorithm\n",
        "fakeClassifier = nltk.NaiveBayesClassifier.train(training_set)"
      ],
      "execution_count": 65,
      "outputs": []
    },
    {
      "cell_type": "code",
      "metadata": {
        "id": "nEdB_6u1PIam",
        "outputId": "bdf1b673-a0d7-402a-f52c-ea455211c159",
        "colab": {
          "base_uri": "https://localhost:8080/"
        }
      },
      "source": [
        "#storing the classifier on disk for later usage\n",
        "import pickle\n",
        "f = open('nb_fake_news_classifier.pickle', 'wb')\n",
        "pickle.dump(fakeClassifier,f)\n",
        "print('Classifier stored at ', f.name)\n",
        "f.close()"
      ],
      "execution_count": 66,
      "outputs": [
        {
          "output_type": "stream",
          "text": [
            "Classifier stored at  nb_fake_news_classifier.pickle\n"
          ],
          "name": "stdout"
        }
      ]
    },
    {
      "cell_type": "code",
      "metadata": {
        "id": "rMMYXnYph2Bh",
        "outputId": "14ca2b05-4423-4d71-99e7-1de77e0118a8",
        "colab": {
          "base_uri": "https://localhost:8080/",
          "height": 17
        }
      },
      "source": [
        "from google.colab import files\n",
        "files.download(\"nb_fake_news_classifier.pickle\")"
      ],
      "execution_count": 67,
      "outputs": [
        {
          "output_type": "display_data",
          "data": {
            "application/javascript": [
              "\n",
              "    async function download(id, filename, size) {\n",
              "      if (!google.colab.kernel.accessAllowed) {\n",
              "        return;\n",
              "      }\n",
              "      const div = document.createElement('div');\n",
              "      const label = document.createElement('label');\n",
              "      label.textContent = `Downloading \"${filename}\": `;\n",
              "      div.appendChild(label);\n",
              "      const progress = document.createElement('progress');\n",
              "      progress.max = size;\n",
              "      div.appendChild(progress);\n",
              "      document.body.appendChild(div);\n",
              "\n",
              "      const buffers = [];\n",
              "      let downloaded = 0;\n",
              "\n",
              "      const channel = await google.colab.kernel.comms.open(id);\n",
              "      // Send a message to notify the kernel that we're ready.\n",
              "      channel.send({})\n",
              "\n",
              "      for await (const message of channel.messages) {\n",
              "        // Send a message to notify the kernel that we're ready.\n",
              "        channel.send({})\n",
              "        if (message.buffers) {\n",
              "          for (const buffer of message.buffers) {\n",
              "            buffers.push(buffer);\n",
              "            downloaded += buffer.byteLength;\n",
              "            progress.value = downloaded;\n",
              "          }\n",
              "        }\n",
              "      }\n",
              "      const blob = new Blob(buffers, {type: 'application/binary'});\n",
              "      const a = document.createElement('a');\n",
              "      a.href = window.URL.createObjectURL(blob);\n",
              "      a.download = filename;\n",
              "      div.appendChild(a);\n",
              "      a.click();\n",
              "      div.remove();\n",
              "    }\n",
              "  "
            ],
            "text/plain": [
              "<IPython.core.display.Javascript object>"
            ]
          },
          "metadata": {
            "tags": []
          }
        },
        {
          "output_type": "display_data",
          "data": {
            "application/javascript": [
              "download(\"download_42eb0875-0640-4f06-8012-837f0f1e8aaa\", \"nb_fake_news_classifier.pickle\", 4695163)"
            ],
            "text/plain": [
              "<IPython.core.display.Javascript object>"
            ]
          },
          "metadata": {
            "tags": []
          }
        }
      ]
    },
    {
      "cell_type": "code",
      "metadata": {
        "id": "Eu7uWu9cQR3X",
        "outputId": "2e889710-27bd-4a22-ea47-950773c6fbda",
        "colab": {
          "base_uri": "https://localhost:8080/"
        }
      },
      "source": [
        "!ls"
      ],
      "execution_count": 68,
      "outputs": [
        {
          "output_type": "stream",
          "text": [
            " fake-news.zip\t    kaggle.json\t\t\t     submit.csv\n",
            "'kaggle (1).json'   nb_fake_news_classifier.pickle   test.csv\n",
            "'kaggle (2).json'   nb_spam_classifier.pickle\t     train.csv\n",
            "'kaggle (3).json'   sample_data\n"
          ],
          "name": "stdout"
        }
      ]
    },
    {
      "cell_type": "code",
      "metadata": {
        "id": "sLmUBCXkEZpU",
        "outputId": "fa5c6b74-99e3-4ebb-a8ff-2030350fbe70",
        "colab": {
          "base_uri": "https://localhost:8080/"
        }
      },
      "source": [
        "#print(nltk.classify.accuracy(spamClassifier, training_set))\n",
        "print(nltk.classify.accuracy(spamClassifier, testing_set))"
      ],
      "execution_count": 69,
      "outputs": [
        {
          "output_type": "stream",
          "text": [
            "0.9522847765715728\n"
          ],
          "name": "stdout"
        }
      ]
    },
    {
      "cell_type": "code",
      "metadata": {
        "id": "xYMOZuOgEdfq",
        "outputId": "4cdfd9ce-6ca4-4109-e85e-239619a8d0e9",
        "colab": {
          "base_uri": "https://localhost:8080/"
        }
      },
      "source": [
        "print(spamClassifier.show_most_informative_features(50))"
      ],
      "execution_count": 70,
      "outputs": [
        {
          "output_type": "stream",
          "text": [
            "Most Informative Features\n",
            "     contains(breitbart) = True                0 : 1      =    686.5 : 1.0\n",
            "          contains(york) = True                0 : 1      =    221.2 : 1.0\n",
            "        contains(finest) = True                1 : 0      =     44.6 : 1.0\n",
            "          contains(time) = True                0 : 1      =     38.2 : 1.0\n",
            "      contains(november) = True                1 : 0      =     38.0 : 1.0\n",
            "         contains(brief) = True                0 : 1      =     27.2 : 1.0\n",
            "          contains(milo) = True                0 : 1      =     26.6 : 1.0\n",
            "       contains(comment) = True                1 : 0      =     26.5 : 1.0\n",
            "         contains(alert) = True                1 : 0      =     21.7 : 1.0\n",
            "     contains(halloween) = True                1 : 0      =     19.5 : 1.0\n",
            "      contains(thursday) = True                0 : 1      =     18.4 : 1.0\n",
            "      contains(clintons) = True                1 : 0      =     17.9 : 1.0\n",
            "       contains(october) = True                1 : 0      =     17.0 : 1.0\n",
            "         contains(proof) = True                1 : 0      =     16.6 : 1.0\n",
            "      contains(olympics) = True                0 : 1      =     16.6 : 1.0\n",
            "       contains(corrupt) = True                1 : 0      =     15.1 : 1.0\n",
            "       contains(eastern) = True                1 : 0      =     14.8 : 1.0\n",
            "           contains(new) = True                0 : 1      =     14.5 : 1.0\n",
            "       contains(roberts) = True                1 : 0      =     14.4 : 1.0\n",
            "    contains(propaganda) = True                1 : 0      =     14.4 : 1.0\n",
            "   contains(documentary) = True                1 : 0      =     13.6 : 1.0\n",
            "        contains(repeal) = True                0 : 1      =     13.2 : 1.0\n",
            "           contains(jar) = True                0 : 1      =     13.0 : 1.0\n",
            "        contains(arabic) = True                1 : 0      =     12.9 : 1.0\n",
            "           contains(fbi) = True                1 : 0      =     12.9 : 1.0\n",
            "        contains(expose) = True                1 : 0      =     12.3 : 1.0\n",
            "       contains(veritas) = True                1 : 0      =     12.2 : 1.0\n",
            "       contains(ancient) = True                1 : 0      =     12.2 : 1.0\n",
            "       contains(outlook) = True                1 : 0      =     12.2 : 1.0\n",
            "       contains(tuesday) = True                0 : 1      =     12.1 : 1.0\n",
            "   contains(deportation) = True                0 : 1      =     11.8 : 1.0\n",
            "           contains(rig) = True                1 : 0      =     11.5 : 1.0\n",
            "        contains(server) = True                1 : 0      =     11.4 : 1.0\n",
            "           contains(les) = True                1 : 0      =     11.4 : 1.0\n",
            "     contains(wikileaks) = True                1 : 0      =     11.3 : 1.0\n",
            "        contains(travel) = True                0 : 1      =     11.2 : 1.0\n",
            "           contains(sen) = True                0 : 1      =     11.2 : 1.0\n",
            "         contains(gorka) = True                0 : 1      =     11.2 : 1.0\n",
            "         contains(fatal) = True                0 : 1      =     11.2 : 1.0\n",
            "          contains(duke) = True                1 : 0      =     10.8 : 1.0\n",
            "       contains(podesta) = True                1 : 0      =     10.8 : 1.0\n",
            "      contains(guardian) = True                1 : 0      =     10.7 : 1.0\n",
            "          contains(skip) = True                0 : 1      =     10.6 : 1.0\n",
            "     contains(apologize) = True                0 : 1      =     10.6 : 1.0\n",
            "    contains(manchester) = True                0 : 1      =     10.6 : 1.0\n",
            "       contains(coulter) = True                0 : 1      =     10.3 : 1.0\n",
            "   contains(information) = True                1 : 0      =     10.2 : 1.0\n",
            "      contains(legalize) = True                1 : 0      =     10.0 : 1.0\n",
            "         contains(crook) = True                1 : 0      =     10.0 : 1.0\n",
            "        contains(resign) = True                0 : 1      =      9.9 : 1.0\n",
            "None\n"
          ],
          "name": "stdout"
        }
      ]
    }
  ]
}
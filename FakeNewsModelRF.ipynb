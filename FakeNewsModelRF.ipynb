{
  "nbformat": 4,
  "nbformat_minor": 0,
  "metadata": {
    "colab": {
      "name": "FakeNewsModelRF.ipynb",
      "provenance": [],
      "authorship_tag": "ABX9TyMdzNez3SEvOYYs3DtvhTFy",
      "include_colab_link": true
    },
    "kernelspec": {
      "name": "python3",
      "display_name": "Python 3"
    },
    "accelerator": "GPU"
  },
  "cells": [
    {
      "cell_type": "markdown",
      "metadata": {
        "id": "view-in-github",
        "colab_type": "text"
      },
      "source": [
        "<a href=\"https://colab.research.google.com/github/himanshuchoudhary94/FakeNewsDetection/blob/main/FakeNewsModelRF.ipynb\" target=\"_parent\"><img src=\"https://colab.research.google.com/assets/colab-badge.svg\" alt=\"Open In Colab\"/></a>"
      ]
    },
    {
      "cell_type": "code",
      "metadata": {
        "id": "pPfQKMsP9PbS",
        "outputId": "522b0358-105b-49e1-c4f9-57f4cea707a5",
        "colab": {
          "base_uri": "https://localhost:8080/"
        }
      },
      "source": [
        "!pip install --upgrade --force-reinstall --no-deps kaggle"
      ],
      "execution_count": 1,
      "outputs": [
        {
          "output_type": "stream",
          "text": [
            "Collecting kaggle\n",
            "\u001b[?25l  Downloading https://files.pythonhosted.org/packages/fe/52/3d13208c0f24c72b886c400e94748076222d5ffa4913fb410af50cb09219/kaggle-1.5.9.tar.gz (58kB)\n",
            "\r\u001b[K     |█████▋                          | 10kB 24.5MB/s eta 0:00:01\r\u001b[K     |███████████▎                    | 20kB 20.8MB/s eta 0:00:01\r\u001b[K     |████████████████▉               | 30kB 25.2MB/s eta 0:00:01\r\u001b[K     |██████████████████████▌         | 40kB 17.0MB/s eta 0:00:01\r\u001b[K     |████████████████████████████▏   | 51kB 13.4MB/s eta 0:00:01\r\u001b[K     |████████████████████████████████| 61kB 6.4MB/s \n",
            "\u001b[?25hBuilding wheels for collected packages: kaggle\n",
            "  Building wheel for kaggle (setup.py) ... \u001b[?25l\u001b[?25hdone\n",
            "  Created wheel for kaggle: filename=kaggle-1.5.9-cp36-none-any.whl size=73265 sha256=40cbde7c592e1ffc5b3ecb7d981e967a8eb2e3ea5945085826f23e7b81fecaad\n",
            "  Stored in directory: /root/.cache/pip/wheels/68/6d/9b/7a98271454edcba3b56328cbc78c037286e787d004c8afee71\n",
            "Successfully built kaggle\n",
            "Installing collected packages: kaggle\n",
            "  Found existing installation: kaggle 1.5.9\n",
            "    Uninstalling kaggle-1.5.9:\n",
            "      Successfully uninstalled kaggle-1.5.9\n",
            "Successfully installed kaggle-1.5.9\n"
          ],
          "name": "stdout"
        }
      ]
    },
    {
      "cell_type": "code",
      "metadata": {
        "id": "LMJ3uoq99kSM",
        "outputId": "a0a3b86e-f019-48bf-8970-27e9ae120558",
        "colab": {
          "resources": {
            "http://localhost:8080/nbextensions/google.colab/files.js": {
              "data": "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",
              "ok": true,
              "headers": [
                [
                  "content-type",
                  "application/javascript"
                ]
              ],
              "status": 200,
              "status_text": ""
            }
          },
          "base_uri": "https://localhost:8080/",
          "height": 91
        }
      },
      "source": [
        "from google.colab import files\n",
        "files.upload()"
      ],
      "execution_count": 2,
      "outputs": [
        {
          "output_type": "display_data",
          "data": {
            "text/html": [
              "\n",
              "     <input type=\"file\" id=\"files-b73add58-c966-415f-ab35-82600343c7c2\" name=\"files[]\" multiple disabled\n",
              "        style=\"border:none\" />\n",
              "     <output id=\"result-b73add58-c966-415f-ab35-82600343c7c2\">\n",
              "      Upload widget is only available when the cell has been executed in the\n",
              "      current browser session. Please rerun this cell to enable.\n",
              "      </output>\n",
              "      <script src=\"/nbextensions/google.colab/files.js\"></script> "
            ],
            "text/plain": [
              "<IPython.core.display.HTML object>"
            ]
          },
          "metadata": {
            "tags": []
          }
        },
        {
          "output_type": "stream",
          "text": [
            "Saving kaggle.json to kaggle.json\n"
          ],
          "name": "stdout"
        },
        {
          "output_type": "execute_result",
          "data": {
            "text/plain": [
              "{'kaggle.json': b'{\"username\":\"himanshuchoudhary94\",\"key\":\"c6d0da89704d5ed384ff4a64e2f851e2\"}'}"
            ]
          },
          "metadata": {
            "tags": []
          },
          "execution_count": 2
        }
      ]
    },
    {
      "cell_type": "code",
      "metadata": {
        "id": "spdjHAZB9r9s",
        "outputId": "04ab0625-16e4-4e84-fd76-2431e8ca0ba5",
        "colab": {
          "base_uri": "https://localhost:8080/"
        }
      },
      "source": [
        "!ls"
      ],
      "execution_count": 3,
      "outputs": [
        {
          "output_type": "stream",
          "text": [
            "kaggle.json  sample_data\n"
          ],
          "name": "stdout"
        }
      ]
    },
    {
      "cell_type": "code",
      "metadata": {
        "id": "8gzksUPk9vp8"
      },
      "source": [
        "!mkdir -p ~/.kaggle\n",
        "!cp kaggle.json ~/.kaggle/\n",
        "!chmod 600 ~/.kaggle/kaggle.json"
      ],
      "execution_count": 4,
      "outputs": []
    },
    {
      "cell_type": "code",
      "metadata": {
        "id": "nD0d6lZ6-Gf0",
        "outputId": "51c73fa2-3a2f-4de1-ea41-284f4ebd9185",
        "colab": {
          "base_uri": "https://localhost:8080/"
        }
      },
      "source": [
        "!kaggle competitions download -c fake-news"
      ],
      "execution_count": 5,
      "outputs": [
        {
          "output_type": "stream",
          "text": [
            "Downloading fake-news.zip to /content\n",
            " 71% 33.0M/46.5M [00:00<00:00, 47.3MB/s]\n",
            "100% 46.5M/46.5M [00:00<00:00, 107MB/s] \n"
          ],
          "name": "stdout"
        }
      ]
    },
    {
      "cell_type": "code",
      "metadata": {
        "id": "FspngORj-s5D",
        "outputId": "8e50d674-7945-4682-edbc-8b8832de6ad8",
        "colab": {
          "base_uri": "https://localhost:8080/"
        }
      },
      "source": [
        "!unzip \\fake-news.zip"
      ],
      "execution_count": 6,
      "outputs": [
        {
          "output_type": "stream",
          "text": [
            "Archive:  fake-news.zip\n",
            "  inflating: submit.csv              \n",
            "  inflating: test.csv                \n",
            "  inflating: train.csv               \n"
          ],
          "name": "stdout"
        }
      ]
    },
    {
      "cell_type": "code",
      "metadata": {
        "id": "4AWsgPVS_0Ud"
      },
      "source": [
        "import pandas as pd\n",
        "import regex as re\n",
        "from sklearn.feature_extraction.text import TfidfVectorizer\n",
        "from sklearn.model_selection import train_test_split\n",
        "from sklearn.ensemble import RandomForestClassifier\n",
        "from sklearn.metrics import accuracy_score, recall_score, precision_score, plot_confusion_matrix\n",
        "import matplotlib.pyplot as plt"
      ],
      "execution_count": 7,
      "outputs": []
    },
    {
      "cell_type": "code",
      "metadata": {
        "id": "9B4_Mhbp_qwV"
      },
      "source": [
        "train = pd.read_csv('train.csv')"
      ],
      "execution_count": 8,
      "outputs": []
    },
    {
      "cell_type": "code",
      "metadata": {
        "id": "ggStBpmR_5io",
        "outputId": "2b40fbfa-036f-4852-dc5e-9fa27c41bd93",
        "colab": {
          "base_uri": "https://localhost:8080/",
          "height": 194
        }
      },
      "source": [
        "train.head()"
      ],
      "execution_count": 9,
      "outputs": [
        {
          "output_type": "execute_result",
          "data": {
            "text/html": [
              "<div>\n",
              "<style scoped>\n",
              "    .dataframe tbody tr th:only-of-type {\n",
              "        vertical-align: middle;\n",
              "    }\n",
              "\n",
              "    .dataframe tbody tr th {\n",
              "        vertical-align: top;\n",
              "    }\n",
              "\n",
              "    .dataframe thead th {\n",
              "        text-align: right;\n",
              "    }\n",
              "</style>\n",
              "<table border=\"1\" class=\"dataframe\">\n",
              "  <thead>\n",
              "    <tr style=\"text-align: right;\">\n",
              "      <th></th>\n",
              "      <th>id</th>\n",
              "      <th>title</th>\n",
              "      <th>author</th>\n",
              "      <th>text</th>\n",
              "      <th>label</th>\n",
              "    </tr>\n",
              "  </thead>\n",
              "  <tbody>\n",
              "    <tr>\n",
              "      <th>0</th>\n",
              "      <td>0</td>\n",
              "      <td>House Dem Aide: We Didn’t Even See Comey’s Let...</td>\n",
              "      <td>Darrell Lucus</td>\n",
              "      <td>House Dem Aide: We Didn’t Even See Comey’s Let...</td>\n",
              "      <td>1</td>\n",
              "    </tr>\n",
              "    <tr>\n",
              "      <th>1</th>\n",
              "      <td>1</td>\n",
              "      <td>FLYNN: Hillary Clinton, Big Woman on Campus - ...</td>\n",
              "      <td>Daniel J. Flynn</td>\n",
              "      <td>Ever get the feeling your life circles the rou...</td>\n",
              "      <td>0</td>\n",
              "    </tr>\n",
              "    <tr>\n",
              "      <th>2</th>\n",
              "      <td>2</td>\n",
              "      <td>Why the Truth Might Get You Fired</td>\n",
              "      <td>Consortiumnews.com</td>\n",
              "      <td>Why the Truth Might Get You Fired October 29, ...</td>\n",
              "      <td>1</td>\n",
              "    </tr>\n",
              "    <tr>\n",
              "      <th>3</th>\n",
              "      <td>3</td>\n",
              "      <td>15 Civilians Killed In Single US Airstrike Hav...</td>\n",
              "      <td>Jessica Purkiss</td>\n",
              "      <td>Videos 15 Civilians Killed In Single US Airstr...</td>\n",
              "      <td>1</td>\n",
              "    </tr>\n",
              "    <tr>\n",
              "      <th>4</th>\n",
              "      <td>4</td>\n",
              "      <td>Iranian woman jailed for fictional unpublished...</td>\n",
              "      <td>Howard Portnoy</td>\n",
              "      <td>Print \\nAn Iranian woman has been sentenced to...</td>\n",
              "      <td>1</td>\n",
              "    </tr>\n",
              "  </tbody>\n",
              "</table>\n",
              "</div>"
            ],
            "text/plain": [
              "   id  ... label\n",
              "0   0  ...     1\n",
              "1   1  ...     0\n",
              "2   2  ...     1\n",
              "3   3  ...     1\n",
              "4   4  ...     1\n",
              "\n",
              "[5 rows x 5 columns]"
            ]
          },
          "metadata": {
            "tags": []
          },
          "execution_count": 9
        }
      ]
    },
    {
      "cell_type": "code",
      "metadata": {
        "id": "1licVUJA_8zY",
        "outputId": "806c5b57-493e-47c6-a733-927efcf9733e",
        "colab": {
          "base_uri": "https://localhost:8080/",
          "height": 107
        }
      },
      "source": [
        "train['text'][1]"
      ],
      "execution_count": null,
      "outputs": [
        {
          "output_type": "execute_result",
          "data": {
            "application/vnd.google.colaboratory.intrinsic+json": {
              "type": "string"
            },
            "text/plain": [
              "'Ever get the feeling your life circles the roundabout rather than heads in a straight line toward the intended destination? [Hillary Clinton remains the big woman on campus in leafy, liberal Wellesley, Massachusetts. Everywhere else votes her most likely to don her inauguration dress for the remainder of her days the way Miss Havisham forever wore that wedding dress.  Speaking of Great Expectations, Hillary Rodham overflowed with them 48 years ago when she first addressed a Wellesley graduating class. The president of the college informed those gathered in 1969 that the students needed “no debate so far as I could ascertain as to who their spokesman was to be” (kind of the like the Democratic primaries in 2016 minus the   terms unknown then even at a Seven Sisters school). “I am very glad that Miss Adams made it clear that what I am speaking for today is all of us —  the 400 of us,” Miss Rodham told her classmates. After appointing herself Edger Bergen to the Charlie McCarthys and Mortimer Snerds in attendance, the    bespectacled in granny glasses (awarding her matronly wisdom —  or at least John Lennon wisdom) took issue with the previous speaker. Despite becoming the first   to win election to a seat in the U. S. Senate since Reconstruction, Edward Brooke came in for criticism for calling for “empathy” for the goals of protestors as he criticized tactics. Though Clinton in her senior thesis on Saul Alinsky lamented “Black Power demagogues” and “elitist arrogance and repressive intolerance” within the New Left, similar words coming out of a Republican necessitated a brief rebuttal. “Trust,” Rodham ironically observed in 1969, “this is one word that when I asked the class at our rehearsal what it was they wanted me to say for them, everyone came up to me and said ‘Talk about trust, talk about the lack of trust both for us and the way we feel about others. Talk about the trust bust.’ What can you say about it? What can you say about a feeling that permeates a generation and that perhaps is not even understood by those who are distrusted?” The “trust bust” certainly busted Clinton’s 2016 plans. She certainly did not even understand that people distrusted her. After Whitewater, Travelgate, the vast   conspiracy, Benghazi, and the missing emails, Clinton found herself the distrusted voice on Friday. There was a load of compromising on the road to the broadening of her political horizons. And distrust from the American people —  Trump edged her 48 percent to 38 percent on the question immediately prior to November’s election —  stood as a major reason for the closing of those horizons. Clinton described her vanquisher and his supporters as embracing a “lie,” a “con,” “alternative facts,” and “a   assault on truth and reason. ” She failed to explain why the American people chose his lies over her truth. “As the history majors among you here today know all too well, when people in power invent their own facts and attack those who question them, it can mark the beginning of the end of a free society,” she offered. “That is not hyperbole. ” Like so many people to emerge from the 1960s, Hillary Clinton embarked upon a long, strange trip. From high school Goldwater Girl and Wellesley College Republican president to Democratic politician, Clinton drank in the times and the place that gave her a degree. More significantly, she went from idealist to cynic, as a comparison of her two Wellesley commencement addresses show. Way back when, she lamented that “for too long our leaders have viewed politics as the art of the possible, and the challenge now is to practice politics as the art of making what appears to be impossible possible. ” Now, as the big woman on campus but the odd woman out of the White House, she wonders how her current station is even possible. “Why aren’t I 50 points ahead?” she asked in September. In May she asks why she isn’t president. The woman famously dubbed a “congenital liar” by Bill Safire concludes that lies did her in —  theirs, mind you, not hers. Getting stood up on Election Day, like finding yourself the jilted bride on your wedding day, inspires dangerous delusions.'"
            ]
          },
          "metadata": {
            "tags": []
          },
          "execution_count": 12
        }
      ]
    },
    {
      "cell_type": "code",
      "metadata": {
        "id": "l0z-SapsATXs",
        "outputId": "586d0672-a259-430f-a59c-5ea7b4c50faa",
        "colab": {
          "base_uri": "https://localhost:8080/"
        }
      },
      "source": [
        "train['label'].value_counts()   #balanced data set"
      ],
      "execution_count": null,
      "outputs": [
        {
          "output_type": "execute_result",
          "data": {
            "text/plain": [
              "1    10413\n",
              "0    10387\n",
              "Name: label, dtype: int64"
            ]
          },
          "metadata": {
            "tags": []
          },
          "execution_count": 13
        }
      ]
    },
    {
      "cell_type": "code",
      "metadata": {
        "id": "drbX53dTN-r8",
        "outputId": "cddb6deb-1294-4335-fc3d-c8fb8fea009e",
        "colab": {
          "base_uri": "https://localhost:8080/"
        }
      },
      "source": [
        "#removing Duplicates\n",
        "\n",
        "print(train.shape)\n",
        "train = train.drop_duplicates(subset=['title'], keep = 'first')\n",
        "print(train.shape)"
      ],
      "execution_count": 10,
      "outputs": [
        {
          "output_type": "stream",
          "text": [
            "(20800, 5)\n",
            "(19804, 5)\n"
          ],
          "name": "stdout"
        }
      ]
    },
    {
      "cell_type": "code",
      "metadata": {
        "id": "fZ7ocovZE5QT"
      },
      "source": [
        "#Filling NANs with Not Available\n",
        "\n",
        "train.fillna('Not Available', inplace=True)\n",
        "#train.dropna(inplace=True)"
      ],
      "execution_count": 11,
      "outputs": []
    },
    {
      "cell_type": "code",
      "metadata": {
        "id": "eLC-Tpl_F6eW",
        "outputId": "f6c7ee56-3d9b-4e97-83c0-6f46913c17ad",
        "colab": {
          "base_uri": "https://localhost:8080/",
          "height": 194
        }
      },
      "source": [
        "#keeing only alphabetical characters \n",
        "\n",
        "for col in ['title', 'author', 'text']:\n",
        "    train[col] = train[col].apply(lambda x : re.sub('[^a-z,A-Z]', ' ', x).lower())\n",
        "\n",
        "train.head()"
      ],
      "execution_count": 12,
      "outputs": [
        {
          "output_type": "execute_result",
          "data": {
            "text/html": [
              "<div>\n",
              "<style scoped>\n",
              "    .dataframe tbody tr th:only-of-type {\n",
              "        vertical-align: middle;\n",
              "    }\n",
              "\n",
              "    .dataframe tbody tr th {\n",
              "        vertical-align: top;\n",
              "    }\n",
              "\n",
              "    .dataframe thead th {\n",
              "        text-align: right;\n",
              "    }\n",
              "</style>\n",
              "<table border=\"1\" class=\"dataframe\">\n",
              "  <thead>\n",
              "    <tr style=\"text-align: right;\">\n",
              "      <th></th>\n",
              "      <th>id</th>\n",
              "      <th>title</th>\n",
              "      <th>author</th>\n",
              "      <th>text</th>\n",
              "      <th>label</th>\n",
              "    </tr>\n",
              "  </thead>\n",
              "  <tbody>\n",
              "    <tr>\n",
              "      <th>0</th>\n",
              "      <td>0</td>\n",
              "      <td>house dem aide  we didn t even see comey s let...</td>\n",
              "      <td>darrell lucus</td>\n",
              "      <td>house dem aide  we didn t even see comey s let...</td>\n",
              "      <td>1</td>\n",
              "    </tr>\n",
              "    <tr>\n",
              "      <th>1</th>\n",
              "      <td>1</td>\n",
              "      <td>flynn  hillary clinton, big woman on campus   ...</td>\n",
              "      <td>daniel j  flynn</td>\n",
              "      <td>ever get the feeling your life circles the rou...</td>\n",
              "      <td>0</td>\n",
              "    </tr>\n",
              "    <tr>\n",
              "      <th>2</th>\n",
              "      <td>2</td>\n",
              "      <td>why the truth might get you fired</td>\n",
              "      <td>consortiumnews com</td>\n",
              "      <td>why the truth might get you fired october   , ...</td>\n",
              "      <td>1</td>\n",
              "    </tr>\n",
              "    <tr>\n",
              "      <th>3</th>\n",
              "      <td>3</td>\n",
              "      <td>civilians killed in single us airstrike hav...</td>\n",
              "      <td>jessica purkiss</td>\n",
              "      <td>videos    civilians killed in single us airstr...</td>\n",
              "      <td>1</td>\n",
              "    </tr>\n",
              "    <tr>\n",
              "      <th>4</th>\n",
              "      <td>4</td>\n",
              "      <td>iranian woman jailed for fictional unpublished...</td>\n",
              "      <td>howard portnoy</td>\n",
              "      <td>print  an iranian woman has been sentenced to ...</td>\n",
              "      <td>1</td>\n",
              "    </tr>\n",
              "  </tbody>\n",
              "</table>\n",
              "</div>"
            ],
            "text/plain": [
              "   id  ... label\n",
              "0   0  ...     1\n",
              "1   1  ...     0\n",
              "2   2  ...     1\n",
              "3   3  ...     1\n",
              "4   4  ...     1\n",
              "\n",
              "[5 rows x 5 columns]"
            ]
          },
          "metadata": {
            "tags": []
          },
          "execution_count": 12
        }
      ]
    },
    {
      "cell_type": "code",
      "metadata": {
        "id": "Nyc5RYIfJ8oJ",
        "outputId": "bf4fa905-eecb-4dbc-dd78-c4cbcf04393a",
        "colab": {
          "base_uri": "https://localhost:8080/"
        }
      },
      "source": [
        "#using only title\n",
        "\n",
        "train['total'] = train['title']        #train['title'] + ' ' + train['author'] + ' ' + train['text']\n",
        "vectorizer = TfidfVectorizer(stop_words='english', max_features=5000, ngram_range=(1,2))\n",
        "X = vectorizer.fit_transform(train['total'].values)\n",
        "y = train['label'].values\n",
        "X_train, X_test, y_train, y_test = train_test_split(X, y, test_size=0.3, random_state=43)\n",
        "RF_model = RandomForestClassifier(n_jobs=-1)\n",
        "RF_model.fit(X_train, y_train)\n",
        "y_pred = RF_model.predict(X_test)\n",
        "print('Validation Accuracy: {:.2f} Validation Precision: {:.2f} Validation Recall: {:.2f}'.format(\n",
        "    accuracy_score(y_pred, y_test),\n",
        "    precision_score(y_pred, y_test),\n",
        "    recall_score(y_pred, y_test)\n",
        "))"
      ],
      "execution_count": 13,
      "outputs": [
        {
          "output_type": "stream",
          "text": [
            "Validation Accuracy: 0.94 Validation Precision: 0.98 Validation Recall: 0.89\n"
          ],
          "name": "stdout"
        }
      ]
    },
    {
      "cell_type": "code",
      "metadata": {
        "id": "jGGa60cAJSRk",
        "outputId": "7fbffd99-4a93-4fd8-d235-be758c153244",
        "colab": {
          "base_uri": "https://localhost:8080/"
        }
      },
      "source": [
        "#using only author\n",
        "\n",
        "train['total'] = train['author']        #train['title'] + ' ' + train['author'] + ' ' + train['text']\n",
        "vectorizer = TfidfVectorizer(stop_words='english', max_features=5000, ngram_range=(1,2))\n",
        "X = vectorizer.fit_transform(train['total'].values)\n",
        "y = train['label'].values\n",
        "X_train, X_test, y_train, y_test = train_test_split(X, y, test_size=0.3, random_state=43)\n",
        "RF_model = RandomForestClassifier(n_jobs=-1)\n",
        "RF_model.fit(X_train, y_train)\n",
        "y_pred = RF_model.predict(X_test)\n",
        "print('Validation Accuracy: {:.2f} Validation Precision: {:.2f} Validation Recall: {:.2f}'.format(\n",
        "    accuracy_score(y_pred, y_test),\n",
        "    precision_score(y_pred, y_test),\n",
        "    recall_score(y_pred, y_test)\n",
        "))"
      ],
      "execution_count": 41,
      "outputs": [
        {
          "output_type": "stream",
          "text": [
            "Validation Accuracy: 0.97 Validation Precision: 0.99 Validation Recall: 0.95\n"
          ],
          "name": "stdout"
        }
      ]
    },
    {
      "cell_type": "code",
      "metadata": {
        "id": "L97Za03OJwtW",
        "outputId": "e4373578-317d-47ac-f701-ce98d5ec0ae7",
        "colab": {
          "base_uri": "https://localhost:8080/"
        }
      },
      "source": [
        "#using only text\n",
        "\n",
        "train['total'] = train['text']        #train['title'] + ' ' + train['author'] + ' ' + train['text']\n",
        "vectorizer = TfidfVectorizer(stop_words='english', max_features=5000, ngram_range=(1,2))\n",
        "X = vectorizer.fit_transform(train['total'].values)\n",
        "y = train['label'].values\n",
        "X_train, X_test, y_train, y_test = train_test_split(X, y, test_size=0.3, random_state=43)\n",
        "RF_model = RandomForestClassifier(n_jobs=-1)\n",
        "RF_model.fit(X_train, y_train)\n",
        "y_pred = RF_model.predict(X_test)\n",
        "print('Validation Accuracy: {:.2f} Validation Precision: {:.2f} Validation Recall: {:.2f}'.format(\n",
        "    accuracy_score(y_pred, y_test),\n",
        "    precision_score(y_pred, y_test),\n",
        "    recall_score(y_pred, y_test)\n",
        "))"
      ],
      "execution_count": 37,
      "outputs": [
        {
          "output_type": "stream",
          "text": [
            "Validation Accuracy: 0.94 Validation Precision: 0.94 Validation Recall: 0.95\n"
          ],
          "name": "stdout"
        }
      ]
    },
    {
      "cell_type": "code",
      "metadata": {
        "id": "ryMbk-VxKdbY",
        "outputId": "1099d8ae-9ed8-489e-bd24-6162e2152987",
        "colab": {
          "base_uri": "https://localhost:8080/"
        }
      },
      "source": [
        "#using only title and text\n",
        "\n",
        "train['total'] = train['title'] + ' ' + train['text']       #train['title'] + ' ' + train['author'] + ' ' + train['text']\n",
        "vectorizer = TfidfVectorizer(stop_words='english', max_features=5000, ngram_range=(1,2))\n",
        "X = vectorizer.fit_transform(train['total'].values)\n",
        "y = train['label'].values\n",
        "X_train, X_test, y_train, y_test = train_test_split(X, y, test_size=0.3, random_state=43)\n",
        "RF_model = RandomForestClassifier(n_jobs=-1)\n",
        "RF_model.fit(X_train, y_train)\n",
        "y_pred = RF_model.predict(X_test)\n",
        "print('Validation Accuracy: {:.2f} Validation Precision: {:.2f} Validation Recall: {:.2f}'.format(\n",
        "    accuracy_score(y_pred, y_test),\n",
        "    precision_score(y_pred, y_test),\n",
        "    recall_score(y_pred, y_test)\n",
        "))"
      ],
      "execution_count": null,
      "outputs": [
        {
          "output_type": "stream",
          "text": [
            "Validation Accuracy: 0.97 Validation Precision: 0.97 Validation Recall: 0.97\n"
          ],
          "name": "stdout"
        }
      ]
    },
    {
      "cell_type": "code",
      "metadata": {
        "id": "Y74uCeqerFVs",
        "outputId": "dc98e3c8-d78d-4fde-ff3a-b7f04f7024c9",
        "colab": {
          "base_uri": "https://localhost:8080/"
        }
      },
      "source": [
        "#final model with best possible accuracy using only title and author\n",
        "\n",
        "\n",
        "\n",
        "train['total'] = train['title']  + ' ' + train['author']       #train['title'] + ' ' + train['author'] + ' ' + train['text']\n",
        "vectorizer = TfidfVectorizer(stop_words='english', max_features=5000, ngram_range=(1,2))\n",
        "X = vectorizer.fit_transform(train['total'].values)\n",
        "y = train['label'].values\n",
        "X_train, X_test, y_train, y_test = train_test_split(X, y, test_size=0.2, random_state=43)\n",
        "RF_model = RandomForestClassifier(n_jobs=-1,n_estimators=20, min_samples_leaf=3, max_features=0.5)\n",
        "RF_model.fit(X_train, y_train)\n",
        "y_pred = RF_model.predict(X_test)\n",
        "print('Validation Accuracy: {:.2f} Validation Precision: {:.2f} Validation Recall: {:.2f}'.format(\n",
        "    accuracy_score(y_pred, y_test),\n",
        "    precision_score(y_pred, y_test),\n",
        "    recall_score(y_pred, y_test)\n",
        "\n",
        "))"
      ],
      "execution_count": 53,
      "outputs": [
        {
          "output_type": "stream",
          "text": [
            "Validation Accuracy: 0.99 Validation Precision: 1.00 Validation Recall: 0.99\n"
          ],
          "name": "stdout"
        }
      ]
    },
    {
      "cell_type": "code",
      "metadata": {
        "id": "zKdK9InpKDpL",
        "outputId": "d1d42ec5-3581-46bb-c482-683b41ce9536",
        "colab": {
          "base_uri": "https://localhost:8080/",
          "height": 340
        }
      },
      "source": [
        "features_importances= pd.DataFrame(RF_model.feature_importances_, index = vectorizer.get_feature_names(), columns=['Importance'])\n",
        "features_importances= features_importances.sort_values(by=['Importance'], ascending=False)\n",
        "features_importances.head(10)"
      ],
      "execution_count": 54,
      "outputs": [
        {
          "output_type": "execute_result",
          "data": {
            "text/html": [
              "<div>\n",
              "<style scoped>\n",
              "    .dataframe tbody tr th:only-of-type {\n",
              "        vertical-align: middle;\n",
              "    }\n",
              "\n",
              "    .dataframe tbody tr th {\n",
              "        vertical-align: top;\n",
              "    }\n",
              "\n",
              "    .dataframe thead th {\n",
              "        text-align: right;\n",
              "    }\n",
              "</style>\n",
              "<table border=\"1\" class=\"dataframe\">\n",
              "  <thead>\n",
              "    <tr style=\"text-align: right;\">\n",
              "      <th></th>\n",
              "      <th>Importance</th>\n",
              "    </tr>\n",
              "  </thead>\n",
              "  <tbody>\n",
              "    <tr>\n",
              "      <th>breitbart</th>\n",
              "      <td>0.279466</td>\n",
              "    </tr>\n",
              "    <tr>\n",
              "      <th>york times</th>\n",
              "      <td>0.259376</td>\n",
              "    </tr>\n",
              "    <tr>\n",
              "      <th>new york</th>\n",
              "      <td>0.063178</td>\n",
              "    </tr>\n",
              "    <tr>\n",
              "      <th>york</th>\n",
              "      <td>0.044885</td>\n",
              "    </tr>\n",
              "    <tr>\n",
              "      <th>times</th>\n",
              "      <td>0.040256</td>\n",
              "    </tr>\n",
              "    <tr>\n",
              "      <th>available</th>\n",
              "      <td>0.019348</td>\n",
              "    </tr>\n",
              "    <tr>\n",
              "      <th>new</th>\n",
              "      <td>0.018659</td>\n",
              "    </tr>\n",
              "    <tr>\n",
              "      <th>john</th>\n",
              "      <td>0.010659</td>\n",
              "    </tr>\n",
              "    <tr>\n",
              "      <th>bob price</th>\n",
              "      <td>0.010623</td>\n",
              "    </tr>\n",
              "    <tr>\n",
              "      <th>nussbaum</th>\n",
              "      <td>0.008763</td>\n",
              "    </tr>\n",
              "  </tbody>\n",
              "</table>\n",
              "</div>"
            ],
            "text/plain": [
              "            Importance\n",
              "breitbart     0.279466\n",
              "york times    0.259376\n",
              "new york      0.063178\n",
              "york          0.044885\n",
              "times         0.040256\n",
              "available     0.019348\n",
              "new           0.018659\n",
              "john          0.010659\n",
              "bob price     0.010623\n",
              "nussbaum      0.008763"
            ]
          },
          "metadata": {
            "tags": []
          },
          "execution_count": 54
        }
      ]
    },
    {
      "cell_type": "code",
      "metadata": {
        "id": "49981K9AO6Cz",
        "outputId": "56f5af59-4d65-4d30-f76c-a2dc1609feac",
        "colab": {
          "base_uri": "https://localhost:8080/",
          "height": 280
        }
      },
      "source": [
        "#confusion matrix \n",
        "\n",
        "clf = plot_confusion_matrix(RF_model, X_test, y_test,\n",
        "                      display_labels=['FAKE', 'REAL'],\n",
        "                      cmap=plt.cm.Blues,\n",
        "                      normalize=None)\n",
        "\n",
        "plt.show()"
      ],
      "execution_count": null,
      "outputs": [
        {
          "output_type": "display_data",
          "data": {
            "image/png": "[encoded data removed]",
            "text/plain": [
              "<Figure size 432x288 with 2 Axes>"
            ]
          },
          "metadata": {
            "tags": [],
            "needs_background": "light"
          }
        }
      ]
    },
    {
      "cell_type": "code",
      "metadata": {
        "id": "QXId8pcqNqfT",
        "outputId": "4d470174-f7ff-4e79-e301-f1ee72075b07",
        "colab": {
          "base_uri": "https://localhost:8080/",
          "height": 194
        }
      },
      "source": [
        "#predicting for test file\n",
        "\n",
        "test=pd.read_csv('test.csv') \n",
        "#test = test.drop_duplicates(subset=['title'], keep = 'first')\n",
        "test.fillna('Not Available', inplace=True)\n",
        "for col in ['title', 'author', 'text']:\n",
        "    test[col] = test[col].apply(lambda x : re.sub('[^a-z,A-Z]', ' ', x).lower())\n",
        "test['total'] = test['title']  + ' ' + test['author'] \n",
        "X_act_test = vectorizer.transform(test['total'].values)\n",
        "y_act_pred = RF_model.predict(X_act_test)\n",
        "y_act_pred.sum()\n",
        "submission = pd.DataFrame(list(zip(test['id'], y_act_pred)), columns =['id', 'label'])\n",
        "submission.head()"
      ],
      "execution_count": 47,
      "outputs": [
        {
          "output_type": "execute_result",
          "data": {
            "text/html": [
              "<div>\n",
              "<style scoped>\n",
              "    .dataframe tbody tr th:only-of-type {\n",
              "        vertical-align: middle;\n",
              "    }\n",
              "\n",
              "    .dataframe tbody tr th {\n",
              "        vertical-align: top;\n",
              "    }\n",
              "\n",
              "    .dataframe thead th {\n",
              "        text-align: right;\n",
              "    }\n",
              "</style>\n",
              "<table border=\"1\" class=\"dataframe\">\n",
              "  <thead>\n",
              "    <tr style=\"text-align: right;\">\n",
              "      <th></th>\n",
              "      <th>id</th>\n",
              "      <th>label</th>\n",
              "    </tr>\n",
              "  </thead>\n",
              "  <tbody>\n",
              "    <tr>\n",
              "      <th>0</th>\n",
              "      <td>20800</td>\n",
              "      <td>0</td>\n",
              "    </tr>\n",
              "    <tr>\n",
              "      <th>1</th>\n",
              "      <td>20801</td>\n",
              "      <td>1</td>\n",
              "    </tr>\n",
              "    <tr>\n",
              "      <th>2</th>\n",
              "      <td>20802</td>\n",
              "      <td>1</td>\n",
              "    </tr>\n",
              "    <tr>\n",
              "      <th>3</th>\n",
              "      <td>20803</td>\n",
              "      <td>0</td>\n",
              "    </tr>\n",
              "    <tr>\n",
              "      <th>4</th>\n",
              "      <td>20804</td>\n",
              "      <td>1</td>\n",
              "    </tr>\n",
              "  </tbody>\n",
              "</table>\n",
              "</div>"
            ],
            "text/plain": [
              "      id  label\n",
              "0  20800      0\n",
              "1  20801      1\n",
              "2  20802      1\n",
              "3  20803      0\n",
              "4  20804      1"
            ]
          },
          "metadata": {
            "tags": []
          },
          "execution_count": 47
        }
      ]
    },
    {
      "cell_type": "code",
      "metadata": {
        "id": "Td4tL9HzUwF2"
      },
      "source": [
        "submission.to_csv('submission.csv', index = False)"
      ],
      "execution_count": 48,
      "outputs": []
    },
    {
      "cell_type": "code",
      "metadata": {
        "id": "10CERM1kUwCB",
        "outputId": "d8f4f620-02b0-481f-9eac-62864990c6fb",
        "colab": {
          "base_uri": "https://localhost:8080/",
          "height": 17
        }
      },
      "source": [
        "#downloading the file for submission\n",
        "\n",
        "from google.colab import files\n",
        "files.download(\"submission.csv\")"
      ],
      "execution_count": 49,
      "outputs": [
        {
          "output_type": "display_data",
          "data": {
            "application/javascript": [
              "\n",
              "    async function download(id, filename, size) {\n",
              "      if (!google.colab.kernel.accessAllowed) {\n",
              "        return;\n",
              "      }\n",
              "      const div = document.createElement('div');\n",
              "      const label = document.createElement('label');\n",
              "      label.textContent = `Downloading \"${filename}\": `;\n",
              "      div.appendChild(label);\n",
              "      const progress = document.createElement('progress');\n",
              "      progress.max = size;\n",
              "      div.appendChild(progress);\n",
              "      document.body.appendChild(div);\n",
              "\n",
              "      const buffers = [];\n",
              "      let downloaded = 0;\n",
              "\n",
              "      const channel = await google.colab.kernel.comms.open(id);\n",
              "      // Send a message to notify the kernel that we're ready.\n",
              "      channel.send({})\n",
              "\n",
              "      for await (const message of channel.messages) {\n",
              "        // Send a message to notify the kernel that we're ready.\n",
              "        channel.send({})\n",
              "        if (message.buffers) {\n",
              "          for (const buffer of message.buffers) {\n",
              "            buffers.push(buffer);\n",
              "            downloaded += buffer.byteLength;\n",
              "            progress.value = downloaded;\n",
              "          }\n",
              "        }\n",
              "      }\n",
              "      const blob = new Blob(buffers, {type: 'application/binary'});\n",
              "      const a = document.createElement('a');\n",
              "      a.href = window.URL.createObjectURL(blob);\n",
              "      a.download = filename;\n",
              "      div.appendChild(a);\n",
              "      a.click();\n",
              "      div.remove();\n",
              "    }\n",
              "  "
            ],
            "text/plain": [
              "<IPython.core.display.Javascript object>"
            ]
          },
          "metadata": {
            "tags": []
          }
        },
        {
          "output_type": "display_data",
          "data": {
            "application/javascript": [
              "download(\"download_2e5467e3-3467-457e-beae-83ebdf9821c9\", \"submission.csv\", 41609)"
            ],
            "text/plain": [
              "<IPython.core.display.Javascript object>"
            ]
          },
          "metadata": {
            "tags": []
          }
        }
      ]
    },
    {
      "cell_type": "markdown",
      "metadata": {
        "id": "o230RGW6tIy1"
      },
      "source": [
        "Analysis based on Topic modelling for further insights about underlying text"
      ]
    },
    {
      "cell_type": "code",
      "metadata": {
        "id": "pBJRKZM_PJ7L"
      },
      "source": [
        "Actual = train[train['label']==0]\n",
        "Fake = train[train['label']==1]"
      ],
      "execution_count": null,
      "outputs": []
    },
    {
      "cell_type": "code",
      "metadata": {
        "id": "HXe_FIBUP2Nw",
        "outputId": "e99f6ff2-d049-4e1f-db0e-be15af59fa4e",
        "colab": {
          "base_uri": "https://localhost:8080/"
        }
      },
      "source": [
        "Fake['author'].value_counts()"
      ],
      "execution_count": null,
      "outputs": [
        {
          "output_type": "execute_result",
          "data": {
            "text/plain": [
              "not available            1870\n",
              "admin                     220\n",
              "pakalert                   84\n",
              "starkman                   83\n",
              "alex ansary                81\n",
              "                         ... \n",
              "jekaterina iwanowa          1\n",
              "barbara nimri aziz          1\n",
              "allen l roland, phd         1\n",
              "emanuel e  garcia, md       1\n",
              "joseph mercola              1\n",
              "Name: author, Length: 1555, dtype: int64"
            ]
          },
          "metadata": {
            "tags": []
          },
          "execution_count": 102
        }
      ]
    },
    {
      "cell_type": "code",
      "metadata": {
        "id": "m5VsyNrAyQIt",
        "outputId": "0606c805-2eaa-4155-9928-6710ebeb7bd3",
        "colab": {
          "base_uri": "https://localhost:8080/"
        }
      },
      "source": [
        "Fake['title']"
      ],
      "execution_count": null,
      "outputs": [
        {
          "output_type": "execute_result",
          "data": {
            "text/plain": [
              "0        house dem aide  we didn t even see comey s let...\n",
              "2                        why the truth might get you fired\n",
              "3           civilians killed in single us airstrike hav...\n",
              "4        iranian woman jailed for fictional unpublished...\n",
              "6        life  life of luxury  elton john s   favorite ...\n",
              "                               ...                        \n",
              "20786    government forces advancing at damascus aleppo...\n",
              "20788    maine s gov  lepage threatens to  investigate ...\n",
              "20791    lawyer who kept hillary campaign chief out of ...\n",
              "20793    idiot who destroyed trump hollywood star gets ...\n",
              "20798    nato, russia to hold parallel exercises in bal...\n",
              "Name: title, Length: 9423, dtype: object"
            ]
          },
          "metadata": {
            "tags": []
          },
          "execution_count": 103
        }
      ]
    },
    {
      "cell_type": "code",
      "metadata": {
        "id": "AdlqMLcIDUGq",
        "outputId": "549a04bb-7663-4c84-df28-b38c563167e8",
        "colab": {
          "base_uri": "https://localhost:8080/"
        }
      },
      "source": [
        "Actual['author'].value_counts()"
      ],
      "execution_count": null,
      "outputs": [
        {
          "output_type": "execute_result",
          "data": {
            "text/plain": [
              "pam key                                                        242\n",
              "jerome hudson                                                  166\n",
              "charlie spiering                                               141\n",
              "john hayward                                                   140\n",
              "katherine rodriguez                                            124\n",
              "                                                              ... \n",
              "ben hubbard, eric lipton, dan levin and richard c  paddock       1\n",
              "jonathan mahler and julie turkewitz                              1\n",
              "carlotta gall and lilia blaise                                   1\n",
              "walt bogdanich, jacqueline williams and ana graciela m ndez      1\n",
              "julie creswell and sapna maheshwari                              1\n",
              "Name: author, Length: 2225, dtype: int64"
            ]
          },
          "metadata": {
            "tags": []
          },
          "execution_count": 104
        }
      ]
    },
    {
      "cell_type": "code",
      "metadata": {
        "id": "uNKGI5olKPc1"
      },
      "source": [
        "# import libraries  \n",
        "import numpy as np\n",
        "import pandas as pd\n",
        "import nltk\n",
        "import re, random, os\n",
        "import string, pprint\n",
        "import matplotlib.pyplot as plt\n",
        "import seaborn as sns\n",
        "\n",
        "# spacy for basic preprocessing, optional, can use nltk as well (lemmatisation etc.)\n",
        "import spacy\n",
        "\n",
        "# gensim for LDA \n",
        "import gensim\n",
        "import gensim.corpora as corpora\n",
        "from gensim.utils import simple_preprocess\n",
        "from gensim.models import CoherenceModel\n"
      ],
      "execution_count": null,
      "outputs": []
    },
    {
      "cell_type": "code",
      "metadata": {
        "id": "li4DabUJtykq",
        "outputId": "3fe61b38-b9d6-4b9b-d4f3-526f52bbba8a",
        "colab": {
          "base_uri": "https://localhost:8080/"
        }
      },
      "source": [
        "pip install pyLDAvis"
      ],
      "execution_count": null,
      "outputs": [
        {
          "output_type": "stream",
          "text": [
            "Collecting pyLDAvis\n",
            "\u001b[?25l  Downloading https://files.pythonhosted.org/packages/a5/3a/af82e070a8a96e13217c8f362f9a73e82d61ac8fff3a2561946a97f96266/pyLDAvis-2.1.2.tar.gz (1.6MB)\n",
            "\u001b[K     |████████████████████████████████| 1.6MB 5.8MB/s \n",
            "\u001b[?25hRequirement already satisfied: wheel>=0.23.0 in /usr/local/lib/python3.6/dist-packages (from pyLDAvis) (0.35.1)\n",
            "Requirement already satisfied: numpy>=1.9.2 in /usr/local/lib/python3.6/dist-packages (from pyLDAvis) (1.18.5)\n",
            "Requirement already satisfied: scipy>=0.18.0 in /usr/local/lib/python3.6/dist-packages (from pyLDAvis) (1.4.1)\n",
            "Requirement already satisfied: pandas>=0.17.0 in /usr/local/lib/python3.6/dist-packages (from pyLDAvis) (1.1.4)\n",
            "Requirement already satisfied: joblib>=0.8.4 in /usr/local/lib/python3.6/dist-packages (from pyLDAvis) (0.17.0)\n",
            "Requirement already satisfied: jinja2>=2.7.2 in /usr/local/lib/python3.6/dist-packages (from pyLDAvis) (2.11.2)\n",
            "Requirement already satisfied: numexpr in /usr/local/lib/python3.6/dist-packages (from pyLDAvis) (2.7.1)\n",
            "Requirement already satisfied: pytest in /usr/local/lib/python3.6/dist-packages (from pyLDAvis) (3.6.4)\n",
            "Requirement already satisfied: future in /usr/local/lib/python3.6/dist-packages (from pyLDAvis) (0.16.0)\n",
            "Collecting funcy\n",
            "  Downloading https://files.pythonhosted.org/packages/66/89/479de0afbbfb98d1c4b887936808764627300208bb771fcd823403645a36/funcy-1.15-py2.py3-none-any.whl\n",
            "Requirement already satisfied: python-dateutil>=2.7.3 in /usr/local/lib/python3.6/dist-packages (from pandas>=0.17.0->pyLDAvis) (2.8.1)\n",
            "Requirement already satisfied: pytz>=2017.2 in /usr/local/lib/python3.6/dist-packages (from pandas>=0.17.0->pyLDAvis) (2018.9)\n",
            "Requirement already satisfied: MarkupSafe>=0.23 in /usr/local/lib/python3.6/dist-packages (from jinja2>=2.7.2->pyLDAvis) (1.1.1)\n",
            "Requirement already satisfied: py>=1.5.0 in /usr/local/lib/python3.6/dist-packages (from pytest->pyLDAvis) (1.9.0)\n",
            "Requirement already satisfied: more-itertools>=4.0.0 in /usr/local/lib/python3.6/dist-packages (from pytest->pyLDAvis) (8.6.0)\n",
            "Requirement already satisfied: attrs>=17.4.0 in /usr/local/lib/python3.6/dist-packages (from pytest->pyLDAvis) (20.2.0)\n",
            "Requirement already satisfied: atomicwrites>=1.0 in /usr/local/lib/python3.6/dist-packages (from pytest->pyLDAvis) (1.4.0)\n",
            "Requirement already satisfied: setuptools in /usr/local/lib/python3.6/dist-packages (from pytest->pyLDAvis) (50.3.2)\n",
            "Requirement already satisfied: pluggy<0.8,>=0.5 in /usr/local/lib/python3.6/dist-packages (from pytest->pyLDAvis) (0.7.1)\n",
            "Requirement already satisfied: six>=1.10.0 in /usr/local/lib/python3.6/dist-packages (from pytest->pyLDAvis) (1.15.0)\n",
            "Building wheels for collected packages: pyLDAvis\n",
            "  Building wheel for pyLDAvis (setup.py) ... \u001b[?25l\u001b[?25hdone\n",
            "  Created wheel for pyLDAvis: filename=pyLDAvis-2.1.2-py2.py3-none-any.whl size=97712 sha256=7e8b55c302658999f71a052cf9ea6cace2cdc61ee97434528277a15d9546063a\n",
            "  Stored in directory: /root/.cache/pip/wheels/98/71/24/513a99e58bb6b8465bae4d2d5e9dba8f0bef8179e3051ac414\n",
            "Successfully built pyLDAvis\n",
            "Installing collected packages: funcy, pyLDAvis\n",
            "Successfully installed funcy-1.15 pyLDAvis-2.1.2\n"
          ],
          "name": "stdout"
        }
      ]
    },
    {
      "cell_type": "code",
      "metadata": {
        "id": "5yV8IfEKta87"
      },
      "source": [
        "# Plotting tools\n",
        "import pyLDAvis\n",
        "import pyLDAvis.gensim  # don't skip this\n",
        "import matplotlib.pyplot as plt\n",
        "%matplotlib inline\n",
        "\n",
        "import warnings\n",
        "warnings.filterwarnings(\"ignore\",category=DeprecationWarning)"
      ],
      "execution_count": null,
      "outputs": []
    },
    {
      "cell_type": "code",
      "metadata": {
        "id": "b4114repuEht",
        "outputId": "d0a4e67f-2dc0-4082-de40-22ac36a4e0cb",
        "colab": {
          "base_uri": "https://localhost:8080/"
        }
      },
      "source": [
        "# tokenize using gensim simple_preprocess\n",
        "def sent_to_words(sentences, deacc=True): # deacc=True removes punctuations\n",
        "    for sentence in sentences:\n",
        "        yield(gensim.utils.simple_preprocess(str(sentence)))  \n",
        "\n",
        "\n",
        "# convert to list\n",
        "data = Actual['title'].values.tolist()\n",
        "data_words = list(sent_to_words(data))\n",
        "\n",
        "# sample\n",
        "print(data_words[7])"
      ],
      "execution_count": null,
      "outputs": [
        {
          "output_type": "stream",
          "text": [
            "['in', 'major', 'league', 'soccer', 'argentines', 'find', 'home', 'and', 'success', 'the', 'new', 'york', 'times']\n"
          ],
          "name": "stdout"
        }
      ]
    },
    {
      "cell_type": "code",
      "metadata": {
        "id": "2PEQOQhVvMOu",
        "outputId": "91d1ed83-1dc1-40fa-b877-e0093a57c40b",
        "colab": {
          "base_uri": "https://localhost:8080/"
        }
      },
      "source": [
        " nltk.download('stopwords')"
      ],
      "execution_count": null,
      "outputs": [
        {
          "output_type": "stream",
          "text": [
            "[nltk_data] Downloading package stopwords to /root/nltk_data...\n",
            "[nltk_data]   Unzipping corpora/stopwords.zip.\n"
          ],
          "name": "stdout"
        },
        {
          "output_type": "execute_result",
          "data": {
            "text/plain": [
              "True"
            ]
          },
          "metadata": {
            "tags": []
          },
          "execution_count": 109
        }
      ]
    },
    {
      "cell_type": "code",
      "metadata": {
        "id": "6hV5Sukmu1Hh"
      },
      "source": [
        "# create list of stop words\n",
        "# string.punctuation (from the 'string' module) contains a list of punctuations\n",
        "from nltk.corpus import stopwords\n",
        "stop_words = stopwords.words('english') + list(string.punctuation)\n"
      ],
      "execution_count": null,
      "outputs": []
    },
    {
      "cell_type": "code",
      "metadata": {
        "id": "qO4BLcP1vSjp"
      },
      "source": [
        "# functions for removing stopwords and lemmatization\n",
        "def remove_stopwords(texts):\n",
        "    return [[word for word in simple_preprocess(str(doc)) if word not in stop_words] for doc in texts]\n",
        "\n",
        "def lemmatization(texts, allowed_postags=['NOUN', 'ADJ', 'VERB', 'ADV']):\n",
        "    \"\"\"https://spacy.io/api/annotation\"\"\"\n",
        "    texts_out = []\n",
        "    for sent in texts:\n",
        "        doc = nlp(\" \".join(sent)) \n",
        "        texts_out.append([token.lemma_ for token in doc if token.pos_ in allowed_postags])\n",
        "    return texts_out"
      ],
      "execution_count": null,
      "outputs": []
    },
    {
      "cell_type": "code",
      "metadata": {
        "id": "gPCRj7Z1veUQ",
        "outputId": "c23dd7f2-02ee-4aef-ba31-a3794656d922",
        "colab": {
          "base_uri": "https://localhost:8080/"
        }
      },
      "source": [
        "# call functions\n",
        "\n",
        "# remove stop words\n",
        "data_words_nostops = remove_stopwords(data_words)\n",
        "\n",
        "# initialize spacy 'en' model, use only tagger since we don't need parsing or NER \n",
        "# python3 -m spacy download en\n",
        "nlp = spacy.load('en', disable=['parser', 'ner'])\n",
        "\n",
        "# lemmatization keeping only noun, adj, vb, adv\n",
        "data_lemmatized = lemmatization(data_words_nostops, allowed_postags=['NOUN', 'ADJ', 'VERB', 'ADV'])\n",
        "\n",
        "print(data_lemmatized[1])"
      ],
      "execution_count": null,
      "outputs": [
        {
          "output_type": "stream",
          "text": [
            "['would', 'love', 'trump', 'bomb', 'bathroom', 'exclusive', 'video', 'breitbart']\n"
          ],
          "name": "stdout"
        }
      ]
    },
    {
      "cell_type": "code",
      "metadata": {
        "id": "-NY6PWKDvw4S",
        "outputId": "30527cb0-fba9-4ed8-f787-33c581188ea7",
        "colab": {
          "base_uri": "https://localhost:8080/"
        }
      },
      "source": [
        "# compare the nostop, lemmatised version with the original one\n",
        "# note that speakers is lemmatised to speaker; \n",
        "print(' '.join(data_words[3]), '\\n')\n",
        "print(' '.join(data_lemmatized[3]))"
      ],
      "execution_count": null,
      "outputs": [
        {
          "output_type": "stream",
          "text": [
            "excerpts from draft script for donald trump ampa with black church pastor the new york times \n",
            "\n",
            "church\n"
          ],
          "name": "stdout"
        }
      ]
    },
    {
      "cell_type": "code",
      "metadata": {
        "id": "MbYLZ-aiwRMI",
        "outputId": "66f5572d-32ab-4373-ceb6-ea22aabd35c3",
        "colab": {
          "base_uri": "https://localhost:8080/"
        }
      },
      "source": [
        "!python3 -m spacy download en"
      ],
      "execution_count": null,
      "outputs": [
        {
          "output_type": "stream",
          "text": [
            "Requirement already satisfied: en_core_web_sm==2.2.5 from https://github.com/explosion/spacy-models/releases/download/en_core_web_sm-2.2.5/en_core_web_sm-2.2.5.tar.gz#egg=en_core_web_sm==2.2.5 in /usr/local/lib/python3.6/dist-packages (2.2.5)\n",
            "Requirement already satisfied: spacy>=2.2.2 in /usr/local/lib/python3.6/dist-packages (from en_core_web_sm==2.2.5) (2.2.4)\n",
            "Requirement already satisfied: tqdm<5.0.0,>=4.38.0 in /usr/local/lib/python3.6/dist-packages (from spacy>=2.2.2->en_core_web_sm==2.2.5) (4.41.1)\n",
            "Requirement already satisfied: plac<1.2.0,>=0.9.6 in /usr/local/lib/python3.6/dist-packages (from spacy>=2.2.2->en_core_web_sm==2.2.5) (1.1.3)\n",
            "Requirement already satisfied: preshed<3.1.0,>=3.0.2 in /usr/local/lib/python3.6/dist-packages (from spacy>=2.2.2->en_core_web_sm==2.2.5) (3.0.2)\n",
            "Requirement already satisfied: setuptools in /usr/local/lib/python3.6/dist-packages (from spacy>=2.2.2->en_core_web_sm==2.2.5) (50.3.2)\n",
            "Requirement already satisfied: cymem<2.1.0,>=2.0.2 in /usr/local/lib/python3.6/dist-packages (from spacy>=2.2.2->en_core_web_sm==2.2.5) (2.0.4)\n",
            "Requirement already satisfied: murmurhash<1.1.0,>=0.28.0 in /usr/local/lib/python3.6/dist-packages (from spacy>=2.2.2->en_core_web_sm==2.2.5) (1.0.3)\n",
            "Requirement already satisfied: thinc==7.4.0 in /usr/local/lib/python3.6/dist-packages (from spacy>=2.2.2->en_core_web_sm==2.2.5) (7.4.0)\n",
            "Requirement already satisfied: srsly<1.1.0,>=1.0.2 in /usr/local/lib/python3.6/dist-packages (from spacy>=2.2.2->en_core_web_sm==2.2.5) (1.0.2)\n",
            "Requirement already satisfied: wasabi<1.1.0,>=0.4.0 in /usr/local/lib/python3.6/dist-packages (from spacy>=2.2.2->en_core_web_sm==2.2.5) (0.8.0)\n",
            "Requirement already satisfied: catalogue<1.1.0,>=0.0.7 in /usr/local/lib/python3.6/dist-packages (from spacy>=2.2.2->en_core_web_sm==2.2.5) (1.0.0)\n",
            "Requirement already satisfied: requests<3.0.0,>=2.13.0 in /usr/local/lib/python3.6/dist-packages (from spacy>=2.2.2->en_core_web_sm==2.2.5) (2.23.0)\n",
            "Requirement already satisfied: numpy>=1.15.0 in /usr/local/lib/python3.6/dist-packages (from spacy>=2.2.2->en_core_web_sm==2.2.5) (1.18.5)\n",
            "Requirement already satisfied: blis<0.5.0,>=0.4.0 in /usr/local/lib/python3.6/dist-packages (from spacy>=2.2.2->en_core_web_sm==2.2.5) (0.4.1)\n",
            "Requirement already satisfied: importlib-metadata>=0.20; python_version < \"3.8\" in /usr/local/lib/python3.6/dist-packages (from catalogue<1.1.0,>=0.0.7->spacy>=2.2.2->en_core_web_sm==2.2.5) (2.0.0)\n",
            "Requirement already satisfied: idna<3,>=2.5 in /usr/local/lib/python3.6/dist-packages (from requests<3.0.0,>=2.13.0->spacy>=2.2.2->en_core_web_sm==2.2.5) (2.10)\n",
            "Requirement already satisfied: certifi>=2017.4.17 in /usr/local/lib/python3.6/dist-packages (from requests<3.0.0,>=2.13.0->spacy>=2.2.2->en_core_web_sm==2.2.5) (2020.6.20)\n",
            "Requirement already satisfied: chardet<4,>=3.0.2 in /usr/local/lib/python3.6/dist-packages (from requests<3.0.0,>=2.13.0->spacy>=2.2.2->en_core_web_sm==2.2.5) (3.0.4)\n",
            "Requirement already satisfied: urllib3!=1.25.0,!=1.25.1,<1.26,>=1.21.1 in /usr/local/lib/python3.6/dist-packages (from requests<3.0.0,>=2.13.0->spacy>=2.2.2->en_core_web_sm==2.2.5) (1.24.3)\n",
            "Requirement already satisfied: zipp>=0.5 in /usr/local/lib/python3.6/dist-packages (from importlib-metadata>=0.20; python_version < \"3.8\"->catalogue<1.1.0,>=0.0.7->spacy>=2.2.2->en_core_web_sm==2.2.5) (3.4.0)\n",
            "\u001b[38;5;2m✔ Download and installation successful\u001b[0m\n",
            "You can now load the model via spacy.load('en_core_web_sm')\n",
            "\u001b[38;5;2m✔ Linking successful\u001b[0m\n",
            "/usr/local/lib/python3.6/dist-packages/en_core_web_sm -->\n",
            "/usr/local/lib/python3.6/dist-packages/spacy/data/en\n",
            "You can now load the model via spacy.load('en')\n"
          ],
          "name": "stdout"
        }
      ]
    },
    {
      "cell_type": "code",
      "metadata": {
        "id": "ldqFXK1px5-E",
        "outputId": "f1e9187f-0c01-4eb0-e4c5-993d81fb00c1",
        "colab": {
          "base_uri": "https://localhost:8080/"
        }
      },
      "source": [
        "# create dictionary and corpus\n",
        "# create dictionary\n",
        "id2word = corpora.Dictionary(data_lemmatized)\n",
        "\n",
        "# Create corpus\n",
        "corpus = [id2word.doc2bow(text) for text in data_lemmatized]\n",
        "\n",
        "# sample\n",
        "print(corpus[2])"
      ],
      "execution_count": null,
      "outputs": [
        {
          "output_type": "stream",
          "text": [
            "[(10, 1)]\n"
          ],
          "name": "stdout"
        }
      ]
    },
    {
      "cell_type": "code",
      "metadata": {
        "id": "RiIb37DgyF-_",
        "outputId": "4b65aa94-77e4-4fb7-94ab-1bc5441ef798",
        "colab": {
          "base_uri": "https://localhost:8080/"
        }
      },
      "source": [
        "# human-readable format of corpus (term-frequency)\n",
        "[[(id2word[id], freq) for id, freq in cp] for cp in corpus[:1]]"
      ],
      "execution_count": null,
      "outputs": [
        {
          "output_type": "execute_result",
          "data": {
            "text/plain": [
              "[[('campus', 1), ('woman', 1)]]"
            ]
          },
          "metadata": {
            "tags": []
          },
          "execution_count": 57
        }
      ]
    },
    {
      "cell_type": "code",
      "metadata": {
        "id": "uRtQFn7MyMJZ",
        "outputId": "cc2fa707-e955-4f47-e4f1-63554510cf13",
        "colab": {
          "base_uri": "https://localhost:8080/"
        }
      },
      "source": [
        "data = Fake['title'].values.tolist()\n",
        "data_words = list(sent_to_words(data))\n",
        "\n",
        "# remove stop words\n",
        "data_words_nostops = remove_stopwords(data_words)\n",
        "\n",
        "# initialize spacy 'en' model, use only tagger since we don't need parsing or NER \n",
        "# python3 -m spacy download en\n",
        "nlp = spacy.load('en', disable=['parser', 'ner'])\n",
        "\n",
        "# lemmatization keeping only noun, adj, vb, adv\n",
        "data_lemmatized = lemmatization(data_words_nostops, allowed_postags=['NOUN', 'ADJ', 'VERB', 'ADV'])\n",
        "\n",
        "# create dictionary and corpus\n",
        "# create dictionary\n",
        "id2word = corpora.Dictionary(data_lemmatized)\n",
        "\n",
        "# Create corpus\n",
        "corpus = [id2word.doc2bow(text) for text in data_lemmatized]\n",
        "\n",
        "# Build LDA model\n",
        "lda_model = gensim.models.ldamodel.LdaModel(corpus=corpus,\n",
        "                                           id2word=id2word,\n",
        "                                           num_topics=10, \n",
        "                                           random_state=100,\n",
        "                                           update_every=1,\n",
        "                                           chunksize=100,\n",
        "                                           passes=10,\n",
        "                                           alpha='auto',\n",
        "                                           per_word_topics=True)\n",
        "# print the 10 topics\n",
        "pprint.pprint(lda_model.print_topics())\n",
        "doc_lda = lda_model[corpus]"
      ],
      "execution_count": null,
      "outputs": [
        {
          "output_type": "stream",
          "text": [
            "[(0,\n",
            "  '0.054*\"email\" + 0.042*\"new\" + 0.034*\"news\" + 0.026*\"run\" + 0.025*\"war\" + '\n",
            "  '0.023*\"come\" + 0.018*\"warn\" + 0.018*\"take\" + 0.015*\"force\" + 0.014*\"lose\"'),\n",
            " (1,\n",
            "  '0.101*\"trump\" + 0.047*\"video\" + 0.044*\"say\" + 0.028*\"help\" + 0.024*\"voter\" '\n",
            "  '+ 0.017*\"use\" + 0.015*\"happen\" + 0.015*\"destroy\" + 0.014*\"report\" + '\n",
            "  '0.013*\"work\"'),\n",
            " (2,\n",
            "  '0.058*\"campaign\" + 0.033*\"day\" + 0.033*\"win\" + 0.025*\"find\" + 0.025*\"old\" + '\n",
            "  '0.024*\"russian\" + 0.021*\"end\" + 0.020*\"speak\" + 0.020*\"may\" + '\n",
            "  '0.020*\"expose\"'),\n",
            " (3,\n",
            "  '0.028*\"reveal\" + 0.024*\"head\" + 0.021*\"charge\" + 0.021*\"fraud\" + '\n",
            "  '0.021*\"fight\" + 0.018*\"keep\" + 0.016*\"speech\" + 0.016*\"even\" + '\n",
            "  '0.015*\"demand\" + 0.014*\"community\"'),\n",
            " (4,\n",
            "  '0.046*\"vote\" + 0.035*\"state\" + 0.021*\"could\" + 0.020*\"try\" + 0.018*\"black\" '\n",
            "  '+ 0.017*\"dead\" + 0.017*\"attack\" + 0.017*\"ban\" + 0.015*\"good\" + '\n",
            "  '0.015*\"large\"'),\n",
            " (5,\n",
            "  '0.068*\"comment\" + 0.020*\"release\" + 0.019*\"water\" + 0.019*\"right\" + '\n",
            "  '0.018*\"pay\" + 0.017*\"tell\" + 0.017*\"white\" + 0.015*\"look\" + 0.013*\"life\" + '\n",
            "  '0.012*\"friend\"'),\n",
            " (6,\n",
            "  '0.034*\"break\" + 0.034*\"time\" + 0.027*\"student\" + 0.022*\"family\" + '\n",
            "  '0.021*\"world\" + 0.021*\"woman\" + 0.015*\"protest\" + 0.015*\"order\" + '\n",
            "  '0.015*\"plan\" + 0.012*\"confirm\"'),\n",
            " (7,\n",
            "  '0.073*\"election\" + 0.027*\"go\" + 0.022*\"kill\" + 0.021*\"people\" + '\n",
            "  '0.020*\"first\" + 0.019*\"show\" + 0.019*\"want\" + 0.018*\"stop\" + 0.016*\"rig\" + '\n",
            "  '0.015*\"give\"'),\n",
            " (8,\n",
            "  '0.045*\"get\" + 0.035*\"year\" + 0.030*\"police\" + 0.023*\"government\" + '\n",
            "  '0.022*\"medium\" + 0.020*\"watch\" + 0.017*\"child\" + 0.016*\"issue\" + '\n",
            "  '0.016*\"protester\" + 0.015*\"set\"'),\n",
            " (9,\n",
            "  '0.034*\"call\" + 0.033*\"make\" + 0.024*\"victory\" + 0.019*\"see\" + '\n",
            "  '0.019*\"veteran\" + 0.017*\"know\" + 0.016*\"big\" + 0.016*\"face\" + 0.015*\"paper\" '\n",
            "  '+ 0.015*\"threaten\"')]\n"
          ],
          "name": "stdout"
        }
      ]
    },
    {
      "cell_type": "code",
      "metadata": {
        "id": "UFtU6ER82kPn",
        "outputId": "87cfbd8d-bd0c-46fb-d956-39a60a0918ed",
        "colab": {
          "base_uri": "https://localhost:8080/"
        }
      },
      "source": [
        "# coherence score\n",
        "coherence_model_lda = CoherenceModel(model=lda_model, texts=data_lemmatized, dictionary=id2word, coherence='c_v')\n",
        "coherence_lda = coherence_model_lda.get_coherence()\n",
        "print('\\nCoherence Score: ', coherence_lda)"
      ],
      "execution_count": null,
      "outputs": [
        {
          "output_type": "stream",
          "text": [
            "\n",
            "Coherence Score:  0.5777331255369152\n"
          ],
          "name": "stdout"
        }
      ]
    },
    {
      "cell_type": "code",
      "metadata": {
        "id": "rZRY43Wl2nCN",
        "outputId": "04df29c4-8c81-483e-9491-a740499e0579",
        "colab": {
          "base_uri": "https://localhost:8080/",
          "height": 860
        }
      },
      "source": [
        "# visualize the topics\n",
        "pyLDAvis.enable_notebook()\n",
        "vis = pyLDAvis.gensim.prepare(lda_model, corpus, id2word)\n",
        "vis"
      ],
      "execution_count": null,
      "outputs": [
        {
          "output_type": "execute_result",
          "data": {
            "text/html": [
              "\n",
              "<link rel=\"stylesheet\" type=\"text/css\" href=\"https://cdn.rawgit.com/bmabey/pyLDAvis/files/ldavis.v1.0.0.css\">\n",
              "\n",
              "\n",
              "<div id=\"ldavis_el561399596597325681048607497\"></div>\n",
              "<script type=\"text/javascript\">\n",
              "\n",
              "var ldavis_el561399596597325681048607497_data = {\"mdsDat\": {\"x\": [0.35280557156529474, -0.11597271168510631, -0.037538463724007015, -0.034855471311982106, -0.04381884062567931, -0.029200738392428607, -0.02601172804556188, -0.02267078674352484, -0.02340400256773851, -0.019332828469265994], \"y\": [0.07404149036550285, 0.33543454186468485, -0.075196384465079, -0.0837062024342952, -0.043381815743181, -0.06440481880537229, -0.030942458195165837, -0.037064898194038756, -0.04081438980770033, -0.03396506458535523], \"topics\": [1, 2, 3, 4, 5, 6, 7, 8, 9, 10], \"cluster\": [1, 1, 1, 1, 1, 1, 1, 1, 1, 1], \"Freq\": [12.804075203857371, 11.705651826216524, 10.43016268278988, 10.39893200870956, 9.873480336396591, 9.219894491639176, 9.179099640769866, 9.112241998794804, 8.79459623638844, 8.481865574437789]}, \"tinfo\": {\"Term\": [\"trump\", \"election\", \"comment\", \"email\", \"campaign\", \"video\", \"say\", \"vote\", \"new\", \"get\", \"state\", \"news\", \"break\", \"time\", \"year\", \"call\", \"make\", \"day\", \"win\", \"go\", \"help\", \"police\", \"student\", \"run\", \"voter\", \"war\", \"reveal\", \"kill\", \"people\", \"find\", \"election\", \"go\", \"kill\", \"people\", \"first\", \"show\", \"want\", \"stop\", \"rig\", \"give\", \"high\", \"hold\", \"hate\", \"investigation\", \"public\", \"gold\", \"market\", \"crime\", \"steal\", \"think\", \"advance\", \"control\", \"put\", \"power\", \"editor\", \"turn\", \"ask\", \"violence\", \"full\", \"change\", \"trump\", \"video\", \"say\", \"help\", \"voter\", \"use\", \"happen\", \"destroy\", \"report\", \"work\", \"american\", \"military\", \"leave\", \"lawyer\", \"fear\", \"support\", \"poster\", \"close\", \"question\", \"exercise\", \"die\", \"really\", \"solar\", \"tank\", \"dollar\", \"record\", \"elite\", \"launch\", \"mean\", \"spy\", \"assassinate\", \"email\", \"new\", \"news\", \"run\", \"war\", \"come\", \"warn\", \"take\", \"force\", \"lose\", \"migrant\", \"sex\", \"leak\", \"star\", \"source\", \"system\", \"heal\", \"last\", \"nurse\", \"free\", \"effect\", \"bad\", \"live\", \"dump\", \"space\", \"sell\", \"private\", \"link\", \"candidate\", \"collapse\", \"vote\", \"state\", \"could\", \"try\", \"black\", \"dead\", \"attack\", \"ban\", \"good\", \"large\", \"man\", \"death\", \"promise\", \"evidence\", \"doctor\", \"food\", \"supporter\", \"pain\", \"cancer\", \"relate\", \"machine\", \"accuse\", \"catch\", \"case\", \"medical\", \"leader\", \"burn\", \"normal\", \"begin\", \"rule\", \"break\", \"time\", \"student\", \"family\", \"world\", \"woman\", \"protest\", \"order\", \"plan\", \"confirm\", \"stand\", \"investigate\", \"college\", \"hit\", \"start\", \"exactly\", \"top\", \"soon\", \"story\", \"relief\", \"way\", \"rock\", \"would\", \"performance\", \"truthfeed\", \"jail\", \"law\", \"swear\", \"luxury\", \"expert\", \"substance\", \"get\", \"year\", \"police\", \"government\", \"medium\", \"watch\", \"child\", \"issue\", \"protester\", \"set\", \"week\", \"lie\", \"home\", \"liberal\", \"abuse\", \"deadly\", \"girl\", \"hide\", \"rate\", \"deserve\", \"isis\", \"major\", \"fund\", \"become\", \"next\", \"democracy\", \"surprise\", \"forget\", \"officer\", \"coup\", \"restaurant\", \"call\", \"make\", \"victory\", \"see\", \"veteran\", \"know\", \"big\", \"face\", \"paper\", \"threaten\", \"need\", \"human\", \"political\", \"let\", \"thing\", \"deplorable\", \"device\", \"daily\", \"move\", \"fail\", \"thousand\", \"lead\", \"elect\", \"prove\", \"poll\", \"still\", \"cost\", \"switch\", \"border\", \"weapon\", \"debbie\", \"comment\", \"release\", \"water\", \"right\", \"pay\", \"tell\", \"white\", \"look\", \"life\", \"friend\", \"tree\", \"rise\", \"history\", \"claim\", \"brother\", \"south\", \"open\", \"announce\", \"cop\", \"policy\", \"arrest\", \"never\", \"land\", \"great\", \"save\", \"interview\", \"matter\", \"car\", \"must\", \"today\", \"campaign\", \"day\", \"win\", \"find\", \"old\", \"russian\", \"end\", \"speak\", \"may\", \"expose\", \"legal\", \"official\", \"secret\", \"flat\", \"photo\", \"prosecute\", \"troop\", \"truth\", \"information\", \"terrorist\", \"google\", \"hack\", \"refuse\", \"part\", \"defeat\", \"counter\", \"discover\", \"presidential\", \"intelligence\", \"result\", \"reveal\", \"head\", \"charge\", \"fraud\", \"fight\", \"keep\", \"speech\", \"even\", \"demand\", \"community\", \"back\", \"foreign\", \"dept\", \"strike\", \"voting\", \"former\", \"avoid\", \"illegal\", \"money\", \"fall\", \"crash\", \"anti\", \"powerful\", \"director\", \"restore\", \"nearly\", \"likely\", \"massive\", \"cause\", \"early\"], \"Freq\": [502.0, 399.0, 265.0, 237.0, 216.0, 232.0, 218.0, 203.0, 186.0, 175.0, 155.0, 150.0, 143.0, 142.0, 137.0, 133.0, 131.0, 124.0, 123.0, 145.0, 138.0, 118.0, 114.0, 113.0, 120.0, 113.0, 100.0, 121.0, 114.0, 95.0, 398.74905715725015, 144.84321974687109, 120.26574611934767, 113.65003109384563, 111.15139502680705, 102.17921006635329, 101.76518131801602, 97.21936711898105, 85.54792848476127, 83.41620573498604, 73.13173709188068, 71.81085522261313, 69.73420337734342, 50.152483663776636, 50.12873364035774, 49.60721996822035, 48.48675833706457, 47.271023332611506, 47.11187843884333, 46.44711563759976, 46.37997994386972, 45.713076452256196, 45.5729953424682, 44.03802419327032, 43.26449610259164, 42.85703618664255, 42.526438694662396, 41.667366491292206, 41.322932953280244, 39.946565199340874, 501.4145604210024, 231.700977058106, 217.8074613377527, 137.50102580672595, 119.3660295601398, 82.7199601941746, 73.02441656180225, 72.74978689504398, 70.49373742466307, 65.37047076966915, 61.595572440461844, 60.17885089617953, 53.308288322005716, 50.41079936883868, 43.86960825655251, 43.19126247730366, 41.67198334574679, 41.41469875927417, 41.28747682870729, 39.281670277102336, 38.652560652668114, 38.6300939389132, 33.70468565440651, 33.210373999207555, 32.99719236760906, 32.589113382163205, 32.325816543935126, 30.830933413537576, 30.060580982087906, 29.90027431715912, 35.2392255881299, 236.86652268376108, 186.19056776533986, 149.48875975551636, 112.98168022304066, 112.39112146925152, 99.82103465555889, 77.72232064712348, 77.47689416794606, 68.10766185373195, 63.0508515393485, 61.530867894968, 55.728214037974645, 54.32056740366544, 52.1559053626255, 49.94351761275635, 49.93844286562249, 46.484737338154126, 44.54770512042085, 41.51479548161369, 39.372493658651784, 38.65532594143844, 35.58216873458261, 34.80661875180487, 33.90250782122608, 33.57628114397903, 32.41897083761771, 30.573352088868877, 30.453938877777855, 28.901740276876176, 26.448213405278207, 202.80816722478127, 154.26063555420717, 93.74200657870847, 86.283593980802, 79.02382325771467, 76.7758614294023, 76.52076301014871, 73.04626877960624, 66.09883394212324, 65.76433631455689, 59.488075093341564, 55.54584562596288, 53.50532131931661, 51.94577093104581, 51.66365672360298, 51.48267601443867, 49.831063152464694, 44.718198851602864, 44.194734560749005, 42.08271890772152, 41.76470695282017, 40.157413464654915, 39.100657597147645, 37.48719893595882, 37.21495722558439, 36.462867768440134, 35.355035497490334, 34.520221748715926, 30.560045462665652, 30.19626531829506, 143.0128012823653, 142.2128335861539, 114.15001893957293, 92.2371744939062, 88.2343233340058, 86.61344748216082, 63.85363052594426, 63.4901344332611, 63.063457938407794, 51.25234028866297, 48.80491726443732, 46.38078786717607, 45.6461703262915, 45.55250411178329, 44.711888665787825, 44.092131457026404, 43.67423153564319, 41.50309691742397, 39.53846738516137, 39.28225700072167, 38.22979403698633, 38.18049068917795, 35.756575925772125, 34.2516608923636, 33.298897305690815, 33.285149031642305, 32.751120487172045, 37.28168605375944, 34.55639413786467, 31.008279922589303, 33.26924271173832, 174.47046795325124, 136.41160953537945, 117.52978855941322, 89.3242188072648, 86.33870327273813, 76.79475563501873, 66.00543413620743, 63.718865777409064, 61.6035267587277, 59.69098598655293, 51.60925484812377, 48.883775562257796, 41.79788071100396, 40.685064917420696, 40.492794498521114, 39.82326256143723, 38.96487837862628, 38.04491606120016, 35.201673785736396, 33.51249131661329, 32.853286781204126, 31.857978889668466, 31.77062598016083, 30.328894833204558, 28.645850863771308, 27.002950386521785, 26.41859582655323, 24.977730155213663, 23.743221201705794, 23.13920121367174, 35.49420090007522, 132.90483542514932, 130.24026987616142, 92.87083805633675, 74.57459578280027, 73.61622028916187, 65.1064792065294, 64.01527596486861, 62.09014433468969, 58.309469434290804, 57.99662837911845, 57.03475550896159, 52.80422148391691, 50.97140753308295, 49.599369310571156, 47.82790819615166, 46.121467809910285, 43.506239214526566, 38.34903101951385, 37.76431610382304, 37.721397053809255, 33.233787714738625, 32.743915555215224, 32.6632582162544, 32.6257122104562, 32.45876690145921, 32.35317442887668, 29.131902000217103, 28.716887847325953, 25.643121989711236, 25.41518845668577, 26.81727182819919, 264.4695549076178, 77.19829766625301, 75.33585234580433, 73.92860804958497, 68.22885303000415, 67.16622749479755, 63.887699652688745, 58.3219838491752, 50.62429286485813, 47.83535733252626, 43.110792803724344, 42.78766454442512, 40.24787404930434, 35.83365224585108, 35.314653207987796, 35.07599951173389, 34.28667827056672, 34.22849868875328, 32.405846992141214, 32.310513729135046, 32.075184271708295, 32.0348576171605, 29.59480329075141, 29.055730964585717, 26.027037858209557, 25.533525251614247, 25.420954927907378, 25.334571538666612, 25.109182383691582, 23.59714172856318, 216.18235999019805, 123.46203931452757, 123.07724486564453, 94.61161841403782, 93.54093741905179, 89.25984021238743, 78.43335814612098, 75.32079165202224, 74.55272524719753, 73.1005033498881, 57.31715272368402, 50.62854924725374, 50.510434383901924, 45.04503232547566, 41.890242722338236, 41.25375724857061, 39.926011315258485, 36.38563820867708, 33.6834148463818, 32.63678784946505, 37.34435340426862, 29.661537705038178, 29.42839467635269, 28.546919927451576, 27.22918490663072, 26.228945280268118, 25.797905977293475, 23.883511881964953, 23.351989782864866, 22.82781770961991, 100.11765837385785, 87.37044828588199, 76.06930538953917, 75.95049610785861, 74.99337068018006, 65.84638354369841, 57.70865845872982, 57.30275580050976, 53.5898249469247, 49.72464120573229, 49.37577303705035, 46.27604424185465, 45.684176897591, 44.86888507852819, 43.81667870144151, 43.65285665945833, 33.75239942974543, 33.495816303560744, 32.685144100472975, 31.500983656336963, 31.223022234743784, 31.127793779455462, 30.260653643505748, 29.1678663873349, 43.109498635339094, 26.874951175497436, 26.669963259518862, 25.763876542589355, 25.466984082236298, 24.742473751414696], \"Total\": [502.0, 399.0, 265.0, 237.0, 216.0, 232.0, 218.0, 203.0, 186.0, 175.0, 155.0, 150.0, 143.0, 142.0, 137.0, 133.0, 131.0, 124.0, 123.0, 145.0, 138.0, 118.0, 114.0, 113.0, 120.0, 113.0, 100.0, 121.0, 114.0, 95.0, 399.515987709084, 145.61014568924392, 121.03274105732436, 114.4169934589946, 111.91842326640023, 102.94617185436499, 102.53213443604291, 97.98636685410635, 86.31489229180094, 84.18325001334215, 73.89872409506751, 72.57800561718243, 70.50133341261667, 50.9194239542053, 50.89572507725384, 50.37413525970447, 49.25373879762261, 48.0379998410379, 47.87887926823882, 47.214087643781035, 47.14768667689255, 46.48005737070332, 46.339959394532315, 44.80508460765085, 44.03245529244201, 43.62398636653502, 43.293377715504754, 42.43431480616523, 42.089854658038135, 40.71348512795135, 502.1836492084604, 232.4700467885716, 218.57652942634115, 138.27022046073344, 120.13506413507808, 83.48902823685063, 73.7934644637556, 73.51900275083662, 71.26279299803954, 66.1395592658844, 62.3646609330337, 60.947927030506264, 54.07736676258082, 51.18429629343595, 44.63870898747604, 43.9603106531192, 42.443370576987526, 42.183885619324414, 42.05652874361698, 40.05217526416204, 39.42169952196918, 39.39918637130609, 34.47390322319811, 33.97944700178906, 33.76635740733489, 33.35827973133155, 33.09500232435805, 31.599996414551057, 30.829964668335048, 30.669398445037885, 36.16049299183467, 237.6349406965261, 186.95895788629417, 150.25712278727892, 113.750328342554, 113.15952748566902, 100.58945706498587, 78.49075237533943, 78.24526761759856, 68.87614546329857, 63.81923987632138, 62.29956307982742, 56.49664274505169, 55.08896719561702, 52.92467905141532, 50.71182267782002, 50.706859505134474, 47.25514868244854, 45.316095492472975, 42.286545940318, 40.14089515923269, 39.42572462995402, 36.3505295019557, 35.57502473480412, 34.67091305327792, 34.34469849127218, 33.18758291553094, 31.341775748975486, 31.22229037943383, 29.670109502191046, 27.21661780100772, 203.57990178154236, 155.03248037529036, 94.51374145954469, 87.05540273779279, 79.79554483017466, 77.54767913613135, 77.29245693456437, 73.81816000532793, 66.87063840410954, 66.53643572243732, 60.259765550059704, 56.317638382817094, 54.27720372605442, 52.717530409667596, 52.43563336832598, 52.25442452737696, 50.602790382365924, 45.490412151697626, 44.96645351886489, 42.855969594128396, 42.53639515055927, 40.929188999382156, 39.87235564783799, 38.258916803189315, 37.988039656112896, 37.234635940064145, 36.12700363159227, 35.329129569096914, 31.331827981518607, 30.967998741301965, 143.78617328370382, 142.98624677184344, 114.92356995249354, 93.01066933368453, 89.00767012111153, 87.38682734485967, 64.6270065449928, 64.26350735452385, 63.83685778193937, 52.025783989703164, 49.57822642146149, 47.15459186288791, 46.41985946791363, 46.32592071669481, 45.48532336537133, 44.866430779114005, 44.44759137679362, 42.27647707687935, 40.311915211739574, 40.07416060859396, 39.00313867248057, 38.95384102782252, 36.52994808278118, 35.03607612953298, 34.072302251331, 34.05860463249618, 33.524518330348414, 38.169230472165644, 35.395611014121826, 31.781783596580357, 34.420516544229095, 175.2452874098366, 137.1863804326609, 118.30456806004112, 90.09905466564173, 87.11343484263489, 77.56950104445038, 66.78019257541634, 64.49378695732504, 62.37831446727171, 60.4658868059718, 52.384111953018134, 49.65849454553387, 42.572667621483, 41.45984099247316, 41.26840566704508, 40.599438086193615, 39.73964501973001, 38.8197331824253, 35.97689717810803, 34.29833815173134, 33.62812448891, 32.63274151161242, 32.545462317747834, 31.103613843970333, 29.420609505545464, 27.77774081198431, 27.193360567791515, 25.752561941993672, 24.51795627088021, 23.914151795694345, 37.580614164433364, 133.676222627962, 131.011632521165, 93.64225929268278, 75.34602440371427, 74.38773098988578, 65.87781073740732, 64.78664243282809, 62.861521552757345, 59.081264288450875, 58.76825549164721, 57.806160357776804, 53.57564683378083, 51.74280090941689, 50.370799702467345, 48.59924763203124, 46.89329315378648, 44.278765799151394, 39.12053413941662, 38.535691254906475, 38.492766279639724, 34.005227004443505, 33.51530276785186, 33.43465287234335, 33.397082208819924, 33.230116474712716, 33.12455475802614, 29.903489806213024, 29.488472620027874, 26.414592442098566, 26.186844375826592, 35.14603823158889, 265.2433319722036, 77.97214378253044, 76.10959924258643, 74.70238071415494, 69.00262422466267, 67.93993797864286, 64.66153024187359, 59.095701319657415, 51.39800321497459, 48.60996828730155, 43.885893862299696, 43.56144348032513, 41.02158980886438, 36.60745072062353, 36.09161567114521, 35.855104829048656, 35.060351409112286, 35.00229422282433, 33.17955602009624, 33.084212144427966, 32.848921492147156, 32.808738839532914, 30.368672614781726, 29.8294640641372, 26.800762084217475, 26.30736355714177, 26.194750440445674, 26.108302046366877, 25.882855451223868, 24.370856863087237, 216.95310040066923, 124.23272285939142, 123.8479613235976, 95.38229092969286, 94.31169858512027, 90.03048868678702, 79.204061975447, 76.0917010762729, 75.32342029171596, 73.87120649424283, 58.08816640765065, 51.39932142715602, 51.28114560138222, 45.820176440751005, 42.66095927960673, 42.02534830466279, 40.6966806745873, 37.15632910555106, 34.454055433331746, 33.407408214239034, 38.235572855835656, 30.432219642701504, 30.199089169533085, 29.317607791615124, 27.99983483262986, 27.001066390927445, 26.56856856398732, 24.654128000092786, 24.122825707487696, 23.59847656436563, 100.88820608338315, 88.14160902479688, 76.83994618010385, 76.72114111698761, 75.76399781891821, 66.61724545069303, 58.47932207750495, 58.07358367654522, 54.360423499829956, 50.495628657355454, 50.14632275966997, 47.04654368273486, 46.455494394431646, 45.63939841202787, 44.5872876201812, 44.42355270611095, 34.52314810884219, 34.26632216381837, 33.45561944760882, 32.271568889466, 31.993637058666277, 31.898305685321645, 31.031273332417666, 29.93837947912958, 44.29859157227502, 27.645610668818847, 27.440544128258473, 26.534440646269715, 26.23756402589858, 25.513019033322568], \"Category\": [\"Default\", \"Default\", \"Default\", \"Default\", \"Default\", \"Default\", \"Default\", \"Default\", \"Default\", \"Default\", \"Default\", \"Default\", \"Default\", \"Default\", \"Default\", \"Default\", \"Default\", \"Default\", \"Default\", \"Default\", \"Default\", \"Default\", \"Default\", \"Default\", \"Default\", \"Default\", \"Default\", \"Default\", \"Default\", \"Default\", \"Topic1\", \"Topic1\", \"Topic1\", \"Topic1\", \"Topic1\", \"Topic1\", \"Topic1\", \"Topic1\", \"Topic1\", \"Topic1\", \"Topic1\", \"Topic1\", \"Topic1\", \"Topic1\", \"Topic1\", \"Topic1\", \"Topic1\", \"Topic1\", \"Topic1\", \"Topic1\", \"Topic1\", \"Topic1\", \"Topic1\", \"Topic1\", \"Topic1\", \"Topic1\", \"Topic1\", \"Topic1\", \"Topic1\", \"Topic1\", \"Topic2\", \"Topic2\", \"Topic2\", \"Topic2\", \"Topic2\", \"Topic2\", \"Topic2\", \"Topic2\", \"Topic2\", \"Topic2\", \"Topic2\", \"Topic2\", \"Topic2\", \"Topic2\", \"Topic2\", \"Topic2\", \"Topic2\", \"Topic2\", \"Topic2\", \"Topic2\", \"Topic2\", \"Topic2\", \"Topic2\", \"Topic2\", \"Topic2\", \"Topic2\", \"Topic2\", \"Topic2\", \"Topic2\", \"Topic2\", \"Topic2\", \"Topic3\", \"Topic3\", \"Topic3\", \"Topic3\", \"Topic3\", \"Topic3\", \"Topic3\", \"Topic3\", \"Topic3\", \"Topic3\", \"Topic3\", \"Topic3\", \"Topic3\", \"Topic3\", \"Topic3\", \"Topic3\", \"Topic3\", \"Topic3\", \"Topic3\", \"Topic3\", \"Topic3\", \"Topic3\", \"Topic3\", \"Topic3\", \"Topic3\", \"Topic3\", \"Topic3\", \"Topic3\", \"Topic3\", \"Topic3\", \"Topic4\", \"Topic4\", \"Topic4\", \"Topic4\", \"Topic4\", \"Topic4\", \"Topic4\", \"Topic4\", \"Topic4\", \"Topic4\", \"Topic4\", \"Topic4\", \"Topic4\", \"Topic4\", \"Topic4\", \"Topic4\", \"Topic4\", \"Topic4\", \"Topic4\", \"Topic4\", \"Topic4\", \"Topic4\", \"Topic4\", \"Topic4\", \"Topic4\", \"Topic4\", \"Topic4\", \"Topic4\", \"Topic4\", \"Topic4\", \"Topic5\", \"Topic5\", \"Topic5\", \"Topic5\", \"Topic5\", \"Topic5\", \"Topic5\", \"Topic5\", \"Topic5\", \"Topic5\", \"Topic5\", \"Topic5\", \"Topic5\", \"Topic5\", \"Topic5\", \"Topic5\", \"Topic5\", \"Topic5\", \"Topic5\", \"Topic5\", \"Topic5\", \"Topic5\", \"Topic5\", \"Topic5\", \"Topic5\", \"Topic5\", \"Topic5\", \"Topic5\", \"Topic5\", \"Topic5\", \"Topic5\", \"Topic6\", \"Topic6\", \"Topic6\", \"Topic6\", \"Topic6\", \"Topic6\", \"Topic6\", \"Topic6\", \"Topic6\", \"Topic6\", \"Topic6\", \"Topic6\", \"Topic6\", \"Topic6\", \"Topic6\", \"Topic6\", \"Topic6\", \"Topic6\", \"Topic6\", \"Topic6\", \"Topic6\", \"Topic6\", \"Topic6\", \"Topic6\", \"Topic6\", \"Topic6\", \"Topic6\", \"Topic6\", \"Topic6\", \"Topic6\", \"Topic6\", \"Topic7\", \"Topic7\", \"Topic7\", \"Topic7\", \"Topic7\", \"Topic7\", \"Topic7\", \"Topic7\", \"Topic7\", \"Topic7\", \"Topic7\", \"Topic7\", \"Topic7\", \"Topic7\", \"Topic7\", \"Topic7\", \"Topic7\", \"Topic7\", \"Topic7\", \"Topic7\", \"Topic7\", \"Topic7\", \"Topic7\", \"Topic7\", \"Topic7\", \"Topic7\", \"Topic7\", \"Topic7\", \"Topic7\", \"Topic7\", \"Topic7\", \"Topic8\", \"Topic8\", \"Topic8\", \"Topic8\", \"Topic8\", \"Topic8\", \"Topic8\", \"Topic8\", \"Topic8\", \"Topic8\", \"Topic8\", \"Topic8\", \"Topic8\", \"Topic8\", \"Topic8\", \"Topic8\", \"Topic8\", \"Topic8\", \"Topic8\", \"Topic8\", \"Topic8\", \"Topic8\", \"Topic8\", \"Topic8\", \"Topic8\", \"Topic8\", \"Topic8\", \"Topic8\", \"Topic8\", \"Topic8\", \"Topic9\", \"Topic9\", \"Topic9\", \"Topic9\", \"Topic9\", \"Topic9\", \"Topic9\", \"Topic9\", \"Topic9\", \"Topic9\", \"Topic9\", \"Topic9\", \"Topic9\", \"Topic9\", \"Topic9\", \"Topic9\", \"Topic9\", \"Topic9\", \"Topic9\", \"Topic9\", \"Topic9\", \"Topic9\", \"Topic9\", \"Topic9\", \"Topic9\", \"Topic9\", \"Topic9\", \"Topic9\", \"Topic9\", \"Topic9\", \"Topic10\", \"Topic10\", \"Topic10\", \"Topic10\", \"Topic10\", \"Topic10\", \"Topic10\", \"Topic10\", \"Topic10\", \"Topic10\", \"Topic10\", \"Topic10\", \"Topic10\", \"Topic10\", \"Topic10\", \"Topic10\", \"Topic10\", \"Topic10\", \"Topic10\", \"Topic10\", \"Topic10\", \"Topic10\", \"Topic10\", \"Topic10\", \"Topic10\", \"Topic10\", \"Topic10\", \"Topic10\", \"Topic10\", \"Topic10\"], \"logprob\": [30.0, 29.0, 28.0, 27.0, 26.0, 25.0, 24.0, 23.0, 22.0, 21.0, 20.0, 19.0, 18.0, 17.0, 16.0, 15.0, 14.0, 13.0, 12.0, 11.0, 10.0, 9.0, 8.0, 7.0, 6.0, 5.0, 4.0, 3.0, 2.0, 1.0, -2.6120998859405518, -3.624799966812134, -3.810699939727783, -3.867300033569336, -3.8894999027252197, -3.9737000465393066, -3.9776999950408936, -4.023399829864502, -4.151299953460693, -4.176599979400635, -4.308199882507324, -4.326399803161621, -4.3557000160217285, -4.685299873352051, -4.685800075531006, -4.696300029754639, -4.719099998474121, -4.744500160217285, -4.747900009155273, -4.7621002197265625, -4.763500213623047, -4.7779998779296875, -4.781099796295166, -4.815400123596191, -4.833099842071533, -4.84250020980835, -4.850299835205078, -4.870699882507324, -4.879000186920166, -4.912899971008301, -2.293299913406372, -3.0652999877929688, -3.1270999908447266, -3.587100028991699, -3.7284998893737793, -4.095300197601318, -4.219900131225586, -4.223700046539307, -4.255199909210205, -4.330699920654297, -4.390100002288818, -4.413400173187256, -4.534599781036377, -4.5904998779296875, -4.729499816894531, -4.745100021362305, -4.780900001525879, -4.787099838256836, -4.790200233459473, -4.840000152587891, -4.856100082397461, -4.8566999435424805, -4.993100166320801, -5.007900238037109, -5.0142998695373535, -5.026700019836426, -5.034900188446045, -5.082200050354004, -5.107500076293945, -5.1128997802734375, -4.948599815368652, -2.9279000759124756, -3.168600082397461, -3.3880999088287354, -3.668100118637085, -3.6733999252319336, -3.7920000553131104, -4.042200088500977, -4.045400142669678, -4.174300193786621, -4.251399993896484, -4.2758002281188965, -4.374899864196777, -4.4004998207092285, -4.441100120544434, -4.484499931335449, -4.484600067138672, -4.55620002746582, -4.598800182342529, -4.669300079345703, -4.722300052642822, -4.740699768066406, -4.823500156402588, -4.8454999923706055, -4.8719000816345215, -4.881499767303467, -4.916600227355957, -4.975200176239014, -4.979100227355957, -5.031499862670898, -5.120200157165527, -3.0801000595092773, -3.3536999225616455, -3.851799964904785, -3.9347000122070312, -4.022600173950195, -4.051499843597412, -4.054800033569336, -4.10129976272583, -4.201200008392334, -4.206299781799316, -4.306600093841553, -4.375100135803223, -4.412600040435791, -4.442200183868408, -4.4475998878479, -4.451099872589111, -4.483699798583984, -4.5920000076293945, -4.603799819946289, -4.652699947357178, -4.660299777984619, -4.69950008392334, -4.726200103759766, -4.768400192260742, -4.775599956512451, -4.79610013961792, -4.826900005340576, -4.850800037384033, -4.972700119018555, -4.984600067138672, -3.3775999546051025, -3.38319993019104, -3.6029999256134033, -3.8160998821258545, -3.8605000972747803, -3.8791000843048096, -4.183899879455566, -4.189599990844727, -4.196400165557861, -4.40369987487793, -4.452700138092041, -4.503600120544434, -4.519599914550781, -4.521599769592285, -4.540299892425537, -4.554200172424316, -4.563700199127197, -4.614699840545654, -4.6631999015808105, -4.6697001457214355, -4.696899890899658, -4.698200225830078, -4.763800144195557, -4.80679988861084, -4.835000038146973, -4.835400104522705, -4.851600170135498, -4.7220001220703125, -4.797900199890137, -4.906300067901611, -4.835899829864502, -3.110300064086914, -3.356300115585327, -3.5053000450134277, -3.7797000408172607, -3.813699960708618, -3.9309000968933105, -4.082300186157227, -4.117499828338623, -4.151299953460693, -4.182799816131592, -4.3282999992370605, -4.382599830627441, -4.5391998291015625, -4.566199779510498, -4.570899963378906, -4.587600231170654, -4.609399795532227, -4.633200168609619, -4.710899829864502, -4.7600998878479, -4.78000020980835, -4.810699939727783, -4.813499927520752, -4.859899997711182, -4.916999816894531, -4.976099967956543, -4.997900009155273, -5.053999900817871, -5.104700088500977, -5.130499839782715, -4.702600002288818, -3.3778998851776123, -3.398200035095215, -3.7363998889923096, -3.9558000564575195, -3.9686999320983887, -4.091599941253662, -4.108500003814697, -4.138999938964844, -4.2017998695373535, -4.207200050354004, -4.223899841308594, -4.301000118255615, -4.336299896240234, -4.36359977722168, -4.400000095367432, -4.436299800872803, -4.494699954986572, -4.6209001541137695, -4.636199951171875, -4.637400150299072, -4.763999938964844, -4.778900146484375, -4.781300067901611, -4.78249979019165, -4.787600040435791, -4.790900230407715, -4.895699977874756, -4.910099983215332, -5.0233001708984375, -5.032199859619141, -4.978499889373779, -2.682499885559082, -3.9138998985290527, -3.9382998943328857, -3.957200050354004, -4.037399768829346, -4.053100109100342, -4.103099822998047, -4.194300174713135, -4.3358001708984375, -4.392499923706055, -4.496500015258789, -4.504000186920166, -4.565199851989746, -4.681399822235107, -4.696000099182129, -4.7027997970581055, -4.725500106811523, -4.727200031280518, -4.781899929046631, -4.784900188446045, -4.792200088500977, -4.793399810791016, -4.872700214385986, -4.89109992980957, -5.001100063323975, -5.020299911499023, -5.024700164794922, -5.02810001373291, -5.0370001792907715, -5.099100112915039, -2.8487000465393066, -3.408900022506714, -3.4119999408721924, -3.674999952316284, -3.6863999366760254, -3.7332000732421875, -3.862499952316284, -3.9030001163482666, -3.913300037384033, -3.933000087738037, -4.176199913024902, -4.300300121307373, -4.302599906921387, -4.417099952697754, -4.489699840545654, -4.505000114440918, -4.537799835205078, -4.6305999755859375, -4.707799911499023, -4.7393999099731445, -4.604599952697754, -4.83489990234375, -4.842800140380859, -4.873199939727783, -4.920499801635742, -4.957900047302246, -4.9745001792907715, -5.051599979400635, -5.074100017547607, -5.096799850463867, -3.582200050354004, -3.718400001525879, -3.8568999767303467, -3.8585000038146973, -3.8712000846862793, -4.001299858093262, -4.133200168609619, -4.140200138092041, -4.207200050354004, -4.282100200653076, -4.289100170135498, -4.354000091552734, -4.366799831390381, -4.384799957275391, -4.408599853515625, -4.412300109863281, -4.66949987411499, -4.677199840545654, -4.701700210571289, -4.73859977722168, -4.747399806976318, -4.750500202178955, -4.77869987487793, -4.815499782562256, -4.424799919128418, -4.89739990234375, -4.90500020980835, -4.939599990844727, -4.951200008392334, -4.980100154876709], \"loglift\": [30.0, 29.0, 28.0, 27.0, 26.0, 25.0, 24.0, 23.0, 22.0, 21.0, 20.0, 19.0, 18.0, 17.0, 16.0, 15.0, 14.0, 13.0, 12.0, 11.0, 10.0, 9.0, 8.0, 7.0, 6.0, 5.0, 4.0, 3.0, 2.0, 1.0, 2.0535, 2.0501, 2.049, 2.0487, 2.0485, 2.0479, 2.0479, 2.0475, 2.0465, 2.0463, 2.045, 2.0448, 2.0445, 2.0402, 2.0402, 2.0401, 2.0397, 2.0393, 2.0393, 2.039, 2.039, 2.0388, 2.0387, 2.0381, 2.0378, 2.0377, 2.0375, 2.0372, 2.037, 2.0364, 2.1436, 2.1418, 2.1416, 2.1395, 2.1387, 2.1358, 2.1346, 2.1346, 2.1342, 2.1334, 2.1327, 2.1324, 2.1308, 2.1299, 2.1277, 2.1274, 2.1268, 2.1267, 2.1266, 2.1257, 2.1254, 2.1254, 2.1225, 2.1222, 2.1221, 2.1218, 2.1216, 2.1205, 2.1198, 2.1197, 2.1193, 2.2572, 2.2563, 2.2553, 2.2537, 2.2537, 2.2528, 2.2506, 2.2506, 2.2492, 2.2484, 2.2481, 2.2468, 2.2464, 2.2458, 2.2452, 2.2452, 2.244, 2.2434, 2.242, 2.2411, 2.2407, 2.2391, 2.2386, 2.2381, 2.2378, 2.237, 2.2356, 2.2356, 2.2342, 2.2318, 2.2597, 2.2585, 2.2553, 2.2546, 2.2537, 2.2535, 2.2534, 2.253, 2.2519, 2.2518, 2.2506, 2.2497, 2.2491, 2.2487, 2.2486, 2.2486, 2.2481, 2.2463, 2.2462, 2.2453, 2.2452, 2.2444, 2.2439, 2.2431, 2.2429, 2.2425, 2.2419, 2.2403, 2.2385, 2.2382, 2.3099, 2.3099, 2.3086, 2.307, 2.3066, 2.3064, 2.3033, 2.3032, 2.3031, 2.3003, 2.2996, 2.2988, 2.2985, 2.2985, 2.2982, 2.2979, 2.2978, 2.2969, 2.2959, 2.2954, 2.2953, 2.2953, 2.2939, 2.2927, 2.2924, 2.2923, 2.292, 2.2918, 2.2913, 2.2907, 2.2813, 2.3794, 2.3781, 2.3772, 2.3752, 2.3749, 2.3738, 2.3721, 2.3717, 2.3713, 2.3709, 2.3689, 2.3681, 2.3654, 2.3649, 2.3648, 2.3645, 2.3641, 2.3636, 2.362, 2.3606, 2.3605, 2.3598, 2.3597, 2.3586, 2.3571, 2.3555, 2.3549, 2.3533, 2.3517, 2.3509, 2.3267, 2.3825, 2.3823, 2.38, 2.3779, 2.3778, 2.3765, 2.3763, 2.3759, 2.3751, 2.375, 2.3748, 2.3737, 2.3732, 2.3728, 2.3722, 2.3716, 2.3706, 2.3683, 2.368, 2.368, 2.3653, 2.365, 2.3649, 2.3649, 2.3648, 2.3647, 2.3621, 2.3617, 2.3586, 2.3583, 2.1178, 2.3926, 2.3856, 2.3853, 2.3851, 2.3843, 2.3841, 2.3835, 2.3824, 2.3804, 2.3795, 2.3777, 2.3776, 2.3765, 2.3742, 2.3738, 2.3736, 2.3732, 2.3732, 2.372, 2.3719, 2.3717, 2.3717, 2.3697, 2.3693, 2.3663, 2.3657, 2.3656, 2.3655, 2.3652, 2.3633, 2.4275, 2.4248, 2.4248, 2.4229, 2.4228, 2.4224, 2.4213, 2.4208, 2.4207, 2.4205, 2.4177, 2.4159, 2.4159, 2.414, 2.4128, 2.4125, 2.4119, 2.4101, 2.4084, 2.4077, 2.4074, 2.4054, 2.4052, 2.4044, 2.4031, 2.402, 2.4016, 2.3993, 2.3986, 2.3978, 2.4596, 2.4585, 2.4572, 2.4571, 2.457, 2.4556, 2.454, 2.4539, 2.453, 2.4519, 2.4518, 2.4507, 2.4505, 2.4502, 2.4498, 2.4497, 2.4447, 2.4445, 2.4439, 2.4431, 2.4429, 2.4428, 2.4421, 2.4412, 2.44, 2.439, 2.4388, 2.4378, 2.4374, 2.4366]}, \"token.table\": {\"Topic\": [6, 4, 1, 2, 8, 10, 8, 1, 2, 4, 10, 10, 3, 4, 6, 4, 7, 4, 7, 5, 8, 4, 7, 9, 4, 3, 8, 4, 4, 10, 1, 10, 6, 8, 2, 3, 5, 3, 8, 10, 5, 1, 8, 7, 4, 9, 6, 10, 1, 7, 9, 4, 6, 4, 1, 2, 3, 4, 5, 6, 7, 8, 9, 10, 9, 10, 6, 7, 10, 6, 2, 7, 2, 10, 9, 4, 2, 3, 10, 1, 3, 7, 1, 2, 3, 9, 10, 4, 5, 2, 5, 9, 7, 7, 10, 5, 2, 10, 9, 1, 9, 4, 3, 10, 6, 10, 10, 3, 8, 1, 6, 6, 6, 1, 1, 1, 4, 9, 6, 8, 9, 2, 1, 10, 3, 2, 6, 1, 8, 5, 1, 6, 7, 10, 9, 9, 8, 5, 1, 6, 6, 5, 10, 1, 7, 8, 4, 3, 2, 5, 2, 7, 4, 3, 2, 9, 7, 6, 6, 8, 10, 3, 3, 8, 3, 5, 4, 6, 7, 4, 1, 10, 8, 9, 2, 4, 6, 3, 2, 10, 7, 8, 10, 7, 8, 3, 3, 6, 4, 3, 6, 9, 9, 8, 5, 4, 7, 9, 8, 1, 5, 9, 5, 6, 8, 7, 7, 2, 1, 10, 9, 3, 4, 9, 5, 6, 7, 1, 1, 2, 6, 2, 2, 9, 4, 8, 5, 2, 6, 7, 10, 9, 10, 1, 8, 8, 5, 4, 3, 9, 8, 2, 9, 7, 3, 6, 3, 1, 2, 5, 3, 8, 3, 9, 10, 2, 5, 3, 5, 4, 1, 7, 1, 5, 10, 5, 5, 2, 4, 6, 5, 7, 3, 3, 2, 8, 9, 7, 1, 7, 7, 5, 8, 5, 8, 9, 2, 9, 5, 4, 1, 2, 7, 7, 2, 1, 4, 2, 10, 1, 3, 3, 6, 8, 5, 7, 6, 8, 9, 5, 2, 5, 5, 6], \"Freq\": [0.9692644858326096, 0.9772976444904349, 0.9756576248425983, 0.9941527633185521, 0.971364899213642, 0.9718384514154615, 0.9741567925647088, 0.9932234967335504, 0.9679071579002886, 0.996216229291146, 0.98484645411847, 0.9771404422780149, 0.9903569629725245, 0.9889165483768645, 0.9645181473282637, 0.9894092364571151, 0.9878579533791446, 0.9900302099338029, 0.9843044164695192, 0.9945323443433423, 0.9697543141018775, 0.9688043978657913, 0.9949413394942792, 0.9956068827829192, 0.9785072327649894, 0.9774146602950164, 0.9575498228724872, 0.9670948132257532, 0.9781212914646217, 0.9528323580391456, 0.982475459280652, 0.9890688864079223, 0.9883170062060656, 0.9834063637684196, 0.9719351216242138, 0.955298714560974, 0.990955175807806, 0.9941399717009602, 0.9953124854715146, 0.9901847215187951, 0.9802831613281179, 0.9896717560635822, 0.964449312721912, 0.9697864760244369, 0.9945643728455656, 0.9629249313181271, 0.9617736057082763, 0.9689426664169423, 0.9783921094868075, 0.9713568803681644, 0.9900773094960928, 0.992937517379857, 0.9852353107715187, 0.9943598774391433, 0.028452709048191114, 0.028452709048191114, 0.028452709048191114, 0.028452709048191114, 0.028452709048191114, 0.028452709048191114, 0.7682231443011601, 0.028452709048191114, 0.028452709048191114, 0.028452709048191114, 0.9642914024812499, 0.9933697444459556, 0.9720012935087664, 0.9809505135231827, 0.9901950371991683, 0.9913016732644149, 0.9929405632364795, 0.9937043006027793, 0.9893028578908889, 0.9686563035322692, 0.978599954957378, 0.9916920357332972, 0.9773041137339731, 0.9806491091755517, 0.9798918727473016, 0.9765524024135165, 0.9892018565555909, 0.986999928666737, 0.9987084679338046, 0.9669133631227419, 0.9973280835946724, 0.984797976954512, 0.9815133902787057, 0.9863891497934051, 0.9806886626801314, 0.9737298846511464, 0.9754015191059171, 0.988206413085852, 0.9862949300068357, 0.9871984705889957, 0.9915848872920879, 0.9891338344200206, 0.9856915891618809, 0.9899160836160702, 0.995992013549196, 0.9917938151772019, 0.9821001029576664, 0.9759939079087983, 0.9872794062820278, 0.9777551420186704, 0.9707772009756241, 0.990465582324921, 0.9906004902105408, 0.9715777350079778, 0.9874517859444708, 0.9741064760880566, 0.9832399886527229, 0.9928940319694628, 0.9813877295742629, 0.9859443533820016, 0.9958097309335431, 0.9925728698314005, 0.9869802588267792, 0.9676852531935565, 0.9878017070243374, 0.9721931288355117, 0.9857973014201361, 0.9892474967868555, 0.9928890222588761, 0.9870480124265066, 0.973438900999274, 0.998045707457231, 0.9788835956555102, 0.9878384355606554, 0.9750962892071136, 0.9929646143745751, 0.9920360774277657, 0.9865484675150115, 0.9892554384725063, 0.9630447015070828, 0.9868214226853399, 0.9534538067346243, 0.9883164439312153, 0.9755147522802204, 0.9819435515407207, 0.981321453442426, 0.992343650751168, 0.9689181443597329, 0.9907344495180322, 0.9914672587904522, 0.986675168352113, 0.9878601011160996, 0.9919377147781839, 0.9930246529618714, 0.9810127695370632, 0.9843541874284414, 0.9768621163286789, 0.9846248511785446, 0.9668417346136668, 0.9802325719458458, 0.9800773072529427, 0.9812669864630582, 0.9926385980636082, 0.9889087613105741, 0.9867395386920144, 0.9922564459691183, 0.983945503186841, 0.9608519950144672, 0.9838362801125039, 0.9814588659548923, 0.9871631207468308, 0.9888231618896481, 0.9873897365147968, 0.9806102251204588, 0.992278300012775, 0.9790944166715488, 0.974545307052241, 0.9798586051466343, 0.954389699449057, 0.9957062452758597, 0.9730792857772071, 0.9739907701198289, 0.9872185634208289, 0.995191570132786, 0.9844469356598167, 0.9863813776240995, 0.9860988284506699, 0.9658903379927456, 0.9766469015080567, 0.9860540753306002, 0.9753498955419029, 0.9948707572125141, 0.9916335228310033, 0.9857035760776409, 0.9906839038178622, 0.993223709008477, 0.9788744108539185, 0.9922309980741294, 0.9966950167392123, 0.9697563952871078, 0.9803386493122227, 0.9892194392510175, 0.9816986941380969, 0.9891666539141724, 0.9854697667526634, 0.9963554936518757, 0.9704283057925074, 0.984506694393, 0.9868906802274323, 0.9974255595955809, 0.9672287150228974, 0.9856443621844656, 0.962981878933563, 0.9895538320599845, 0.9820314007952264, 0.9667666446887206, 0.9734678103362518, 0.9890952015063582, 0.9948928149015651, 0.9756016702769593, 0.9902980722996, 0.9939351604719906, 0.9881102724382593, 0.9824007797139301, 0.992663796020235, 0.9748783654956942, 0.9728465416772385, 0.9898681569831399, 0.9892596460543785, 0.9602938630764133, 0.980026829348748, 0.9875321655225767, 0.9731956804015104, 0.9822797711833399, 0.9313312402734578, 0.02660946400781308, 0.9706854884955808, 0.9746391864435289, 0.991196135625119, 0.9963518196751447, 0.9905976127207703, 0.9871114583110931, 0.9755135564900713, 0.9687419665252393, 0.9934037259189756, 0.9885540031847204, 0.9701216673726965, 0.9973623452259295, 0.9945175639489878, 0.9954075293759334, 0.9642160467499674, 0.9922950471649117, 0.9912093405745744, 0.990809062276706, 0.9862532762788749, 0.9934602621600522, 0.9859633781585344, 0.976151099456391, 0.9899635604208382, 0.9856528233587708, 0.9918035630291732, 0.9781737341135822, 0.9883370894201414, 0.9825283956749741, 0.9893301106936658, 0.9933402318482487, 0.9816436958911476, 0.9660507207948611, 0.9899336317308818, 0.9922624561472401, 0.9859902094621088, 0.9919636158807518, 0.9587305279860114, 0.9781550530728321, 0.9880878035023146, 0.9561157377067636, 0.9693671981933645, 0.9834351332358898, 0.9860598839677125, 0.9840850743372181, 0.9711753107183442, 0.9861651628392959, 0.9878048541920296, 0.9876696109254933, 0.9742854790938451, 0.9704390444353702, 0.986927372861078, 0.9931025060513886, 0.9847827729172318, 0.9899299070449223, 0.9798136990195675, 0.9828811425639847, 0.9976429953258612, 0.9688793502106668, 0.9685286235305948, 0.9878766543534165, 0.9856962552369195, 0.9941426047568394, 0.9947877024244965, 0.9931413520184795, 0.9979780328904089, 0.9897650095648032, 0.9971514782330299, 0.9905517665200408, 0.9868283618150528, 0.9948100716036996, 0.989753160768404, 0.9937476408304424, 0.9926581834769824, 0.9854210342239516, 0.9742805654461765, 0.9546778390403472, 0.9926673959203005, 0.9897693382850813, 0.9931532072507677, 0.9955733906743964, 0.9827703831332877, 0.9886788394782112, 0.9854927775539057, 0.9913520538342124], \"Term\": [\"abuse\", \"accuse\", \"advance\", \"american\", \"announce\", \"anti\", \"arrest\", \"ask\", \"assassinate\", \"attack\", \"avoid\", \"back\", \"bad\", \"ban\", \"become\", \"begin\", \"big\", \"black\", \"border\", \"break\", \"brother\", \"burn\", \"call\", \"campaign\", \"cancer\", \"candidate\", \"car\", \"case\", \"catch\", \"cause\", \"change\", \"charge\", \"child\", \"claim\", \"close\", \"collapse\", \"college\", \"come\", \"comment\", \"community\", \"confirm\", \"control\", \"cop\", \"cost\", \"could\", \"counter\", \"coup\", \"crash\", \"crime\", \"daily\", \"day\", \"dead\", \"deadly\", \"death\", \"debbie\", \"debbie\", \"debbie\", \"debbie\", \"debbie\", \"debbie\", \"debbie\", \"debbie\", \"debbie\", \"debbie\", \"defeat\", \"demand\", \"democracy\", \"deplorable\", \"dept\", \"deserve\", \"destroy\", \"device\", \"die\", \"director\", \"discover\", \"doctor\", \"dollar\", \"dump\", \"early\", \"editor\", \"effect\", \"elect\", \"election\", \"elite\", \"email\", \"end\", \"even\", \"evidence\", \"exactly\", \"exercise\", \"expert\", \"expose\", \"face\", \"fail\", \"fall\", \"family\", \"fear\", \"fight\", \"find\", \"first\", \"flat\", \"food\", \"force\", \"foreign\", \"forget\", \"former\", \"fraud\", \"free\", \"friend\", \"full\", \"fund\", \"get\", \"girl\", \"give\", \"go\", \"gold\", \"good\", \"google\", \"government\", \"great\", \"hack\", \"happen\", \"hate\", \"head\", \"heal\", \"help\", \"hide\", \"high\", \"history\", \"hit\", \"hold\", \"home\", \"human\", \"illegal\", \"information\", \"intelligence\", \"interview\", \"investigate\", \"investigation\", \"isis\", \"issue\", \"jail\", \"keep\", \"kill\", \"know\", \"land\", \"large\", \"last\", \"launch\", \"law\", \"lawyer\", \"lead\", \"leader\", \"leak\", \"leave\", \"legal\", \"let\", \"liberal\", \"lie\", \"life\", \"likely\", \"link\", \"live\", \"look\", \"lose\", \"luxury\", \"machine\", \"major\", \"make\", \"man\", \"market\", \"massive\", \"matter\", \"may\", \"mean\", \"medical\", \"medium\", \"migrant\", \"military\", \"money\", \"move\", \"must\", \"nearly\", \"need\", \"never\", \"new\", \"news\", \"next\", \"normal\", \"nurse\", \"officer\", \"official\", \"old\", \"open\", \"order\", \"pain\", \"paper\", \"part\", \"pay\", \"people\", \"performance\", \"photo\", \"plan\", \"police\", \"policy\", \"political\", \"poll\", \"poster\", \"power\", \"powerful\", \"presidential\", \"private\", \"promise\", \"prosecute\", \"protest\", \"protester\", \"prove\", \"public\", \"put\", \"question\", \"rate\", \"really\", \"record\", \"refuse\", \"relate\", \"release\", \"relief\", \"report\", \"restaurant\", \"restaurant\", \"restore\", \"result\", \"reveal\", \"rig\", \"right\", \"rise\", \"rock\", \"rule\", \"run\", \"russian\", \"save\", \"say\", \"secret\", \"see\", \"sell\", \"set\", \"sex\", \"show\", \"solar\", \"soon\", \"source\", \"south\", \"space\", \"speak\", \"speech\", \"spy\", \"stand\", \"star\", \"start\", \"state\", \"steal\", \"still\", \"stop\", \"story\", \"strike\", \"student\", \"substance\", \"support\", \"supporter\", \"surprise\", \"swear\", \"switch\", \"system\", \"take\", \"tank\", \"tell\", \"terrorist\", \"thing\", \"think\", \"thousand\", \"threaten\", \"time\", \"today\", \"top\", \"tree\", \"troop\", \"trump\", \"truth\", \"truthfeed\", \"try\", \"turn\", \"use\", \"veteran\", \"victory\", \"video\", \"violence\", \"vote\", \"voter\", \"voting\", \"want\", \"war\", \"warn\", \"watch\", \"water\", \"way\", \"weapon\", \"week\", \"white\", \"win\", \"woman\", \"work\", \"world\", \"would\", \"year\"]}, \"R\": 30, \"lambda.step\": 0.01, \"plot.opts\": {\"xlab\": \"PC1\", \"ylab\": \"PC2\"}, \"topic.order\": [8, 2, 1, 5, 7, 9, 10, 6, 3, 4]};\n",
              "\n",
              "function LDAvis_load_lib(url, callback){\n",
              "  var s = document.createElement('script');\n",
              "  s.src = url;\n",
              "  s.async = true;\n",
              "  s.onreadystatechange = s.onload = callback;\n",
              "  s.onerror = function(){console.warn(\"failed to load library \" + url);};\n",
              "  document.getElementsByTagName(\"head\")[0].appendChild(s);\n",
              "}\n",
              "\n",
              "if(typeof(LDAvis) !== \"undefined\"){\n",
              "   // already loaded: just create the visualization\n",
              "   !function(LDAvis){\n",
              "       new LDAvis(\"#\" + \"ldavis_el561399596597325681048607497\", ldavis_el561399596597325681048607497_data);\n",
              "   }(LDAvis);\n",
              "}else if(typeof define === \"function\" && define.amd){\n",
              "   // require.js is available: use it to load d3/LDAvis\n",
              "   require.config({paths: {d3: \"https://cdnjs.cloudflare.com/ajax/libs/d3/3.5.5/d3.min\"}});\n",
              "   require([\"d3\"], function(d3){\n",
              "      window.d3 = d3;\n",
              "      LDAvis_load_lib(\"https://cdn.rawgit.com/bmabey/pyLDAvis/files/ldavis.v1.0.0.js\", function(){\n",
              "        new LDAvis(\"#\" + \"ldavis_el561399596597325681048607497\", ldavis_el561399596597325681048607497_data);\n",
              "      });\n",
              "    });\n",
              "}else{\n",
              "    // require.js not available: dynamically load d3 & LDAvis\n",
              "    LDAvis_load_lib(\"https://cdnjs.cloudflare.com/ajax/libs/d3/3.5.5/d3.min.js\", function(){\n",
              "         LDAvis_load_lib(\"https://cdn.rawgit.com/bmabey/pyLDAvis/files/ldavis.v1.0.0.js\", function(){\n",
              "                 new LDAvis(\"#\" + \"ldavis_el561399596597325681048607497\", ldavis_el561399596597325681048607497_data);\n",
              "            })\n",
              "         });\n",
              "}\n",
              "</script>"
            ],
            "text/plain": [
              "PreparedData(topic_coordinates=              x         y  topics  cluster       Freq\n",
              "topic                                                \n",
              "7      0.352806  0.074041       1        1  12.804075\n",
              "1     -0.115973  0.335435       2        1  11.705652\n",
              "0     -0.037538 -0.075196       3        1  10.430163\n",
              "4     -0.034855 -0.083706       4        1  10.398932\n",
              "6     -0.043819 -0.043382       5        1   9.873480\n",
              "8     -0.029201 -0.064405       6        1   9.219894\n",
              "9     -0.026012 -0.030942       7        1   9.179100\n",
              "5     -0.022671 -0.037065       8        1   9.112242\n",
              "2     -0.023404 -0.040814       9        1   8.794596\n",
              "3     -0.019333 -0.033965      10        1   8.481866, topic_info=          Term        Freq       Total Category  logprob  loglift\n",
              "36       trump  502.000000  502.000000  Default  30.0000  30.0000\n",
              "72    election  399.000000  399.000000  Default  29.0000  29.0000\n",
              "303    comment  265.000000  265.000000  Default  28.0000  28.0000\n",
              "125      email  237.000000  237.000000  Default  27.0000  27.0000\n",
              "124   campaign  216.000000  216.000000  Default  26.0000  26.0000\n",
              "...        ...         ...         ...      ...      ...      ...\n",
              "2033    nearly   26.874951   27.645611  Topic10  -4.8974   2.4390\n",
              "2256    likely   26.669963   27.440544  Topic10  -4.9050   2.4388\n",
              "114    massive   25.763877   26.534441  Topic10  -4.9396   2.4378\n",
              "1355     cause   25.466984   26.237564  Topic10  -4.9512   2.4374\n",
              "1861     early   24.742474   25.513019  Topic10  -4.9801   2.4366\n",
              "\n",
              "[334 rows x 6 columns], token_table=      Topic      Freq      Term\n",
              "term                           \n",
              "1188      6  0.969264     abuse\n",
              "868       4  0.977298    accuse\n",
              "1620      1  0.975658   advance\n",
              "94        2  0.994153  american\n",
              "1107      8  0.971365  announce\n",
              "...     ...       ...       ...\n",
              "20        5  0.995573     woman\n",
              "578       2  0.982770      work\n",
              "271       5  0.988679     world\n",
              "399       5  0.985493     would\n",
              "392       6  0.991352      year\n",
              "\n",
              "[314 rows x 3 columns], R=30, lambda_step=0.01, plot_opts={'xlab': 'PC1', 'ylab': 'PC2'}, topic_order=[8, 2, 1, 5, 7, 9, 10, 6, 3, 4])"
            ]
          },
          "metadata": {
            "tags": []
          },
          "execution_count": 66
        }
      ]
    }
  ]
}